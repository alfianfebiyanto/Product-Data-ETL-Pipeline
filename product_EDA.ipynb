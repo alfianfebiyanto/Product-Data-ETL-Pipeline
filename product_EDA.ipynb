{
 "cells": [
  {
   "cell_type": "markdown",
   "id": "fad46c85",
   "metadata": {},
   "source": [
    "### **Import Libraries & Setup**"
   ]
  },
  {
   "cell_type": "code",
   "execution_count": 3,
   "id": "9ede0540",
   "metadata": {},
   "outputs": [],
   "source": [
    "# Import Library\n",
    "import pandas as pd\n",
    "import numpy as np\n",
    "import os \n",
    "from src.utils import extract_multi_csv\n",
    "from config.setting import PRODUCTS_PATH"
   ]
  },
  {
   "cell_type": "markdown",
   "id": "4607e371",
   "metadata": {},
   "source": [
    "### **Data Ingestion**"
   ]
  },
  {
   "cell_type": "code",
   "execution_count": 4,
   "id": "3504b44f",
   "metadata": {},
   "outputs": [
    {
     "data": {
      "text/html": [
       "<div>\n",
       "<style scoped>\n",
       "    .dataframe tbody tr th:only-of-type {\n",
       "        vertical-align: middle;\n",
       "    }\n",
       "\n",
       "    .dataframe tbody tr th {\n",
       "        vertical-align: top;\n",
       "    }\n",
       "\n",
       "    .dataframe thead th {\n",
       "        text-align: right;\n",
       "    }\n",
       "</style>\n",
       "<table border=\"1\" class=\"dataframe\">\n",
       "  <thead>\n",
       "    <tr style=\"text-align: right;\">\n",
       "      <th></th>\n",
       "      <th>name</th>\n",
       "      <th>main_category</th>\n",
       "      <th>sub_category</th>\n",
       "      <th>image</th>\n",
       "      <th>link</th>\n",
       "      <th>ratings</th>\n",
       "      <th>no_of_ratings</th>\n",
       "      <th>discount_price</th>\n",
       "      <th>actual_price</th>\n",
       "    </tr>\n",
       "  </thead>\n",
       "  <tbody>\n",
       "    <tr>\n",
       "      <th>0</th>\n",
       "      <td>Lloyd 1.5 Ton 3 Star Inverter Split Ac (5 In 1...</td>\n",
       "      <td>appliances</td>\n",
       "      <td>Air Conditioners</td>\n",
       "      <td>https://m.media-amazon.com/images/I/31UISB90sY...</td>\n",
       "      <td>https://www.amazon.in/Lloyd-Inverter-Convertib...</td>\n",
       "      <td>4.2</td>\n",
       "      <td>2,255</td>\n",
       "      <td>₹32,999</td>\n",
       "      <td>₹58,990</td>\n",
       "    </tr>\n",
       "    <tr>\n",
       "      <th>1</th>\n",
       "      <td>LG 1.5 Ton 5 Star AI DUAL Inverter Split AC (C...</td>\n",
       "      <td>appliances</td>\n",
       "      <td>Air Conditioners</td>\n",
       "      <td>https://m.media-amazon.com/images/I/51JFb7FctD...</td>\n",
       "      <td>https://www.amazon.in/LG-Convertible-Anti-Viru...</td>\n",
       "      <td>4.2</td>\n",
       "      <td>2,948</td>\n",
       "      <td>₹46,490</td>\n",
       "      <td>₹75,990</td>\n",
       "    </tr>\n",
       "    <tr>\n",
       "      <th>2</th>\n",
       "      <td>LG 1 Ton 4 Star Ai Dual Inverter Split Ac (Cop...</td>\n",
       "      <td>appliances</td>\n",
       "      <td>Air Conditioners</td>\n",
       "      <td>https://m.media-amazon.com/images/I/51JFb7FctD...</td>\n",
       "      <td>https://www.amazon.in/LG-Inverter-Convertible-...</td>\n",
       "      <td>4.2</td>\n",
       "      <td>1,206</td>\n",
       "      <td>₹34,490</td>\n",
       "      <td>₹61,990</td>\n",
       "    </tr>\n",
       "    <tr>\n",
       "      <th>3</th>\n",
       "      <td>LG 1.5 Ton 3 Star AI DUAL Inverter Split AC (C...</td>\n",
       "      <td>appliances</td>\n",
       "      <td>Air Conditioners</td>\n",
       "      <td>https://m.media-amazon.com/images/I/51JFb7FctD...</td>\n",
       "      <td>https://www.amazon.in/LG-Convertible-Anti-Viru...</td>\n",
       "      <td>4.0</td>\n",
       "      <td>69</td>\n",
       "      <td>₹37,990</td>\n",
       "      <td>₹68,990</td>\n",
       "    </tr>\n",
       "    <tr>\n",
       "      <th>4</th>\n",
       "      <td>Carrier 1.5 Ton 3 Star Inverter Split AC (Copp...</td>\n",
       "      <td>appliances</td>\n",
       "      <td>Air Conditioners</td>\n",
       "      <td>https://m.media-amazon.com/images/I/41lrtqXPiW...</td>\n",
       "      <td>https://www.amazon.in/Carrier-Inverter-Split-C...</td>\n",
       "      <td>4.1</td>\n",
       "      <td>630</td>\n",
       "      <td>₹34,490</td>\n",
       "      <td>₹67,790</td>\n",
       "    </tr>\n",
       "  </tbody>\n",
       "</table>\n",
       "</div>"
      ],
      "text/plain": [
       "                                                name main_category  \\\n",
       "0  Lloyd 1.5 Ton 3 Star Inverter Split Ac (5 In 1...    appliances   \n",
       "1  LG 1.5 Ton 5 Star AI DUAL Inverter Split AC (C...    appliances   \n",
       "2  LG 1 Ton 4 Star Ai Dual Inverter Split Ac (Cop...    appliances   \n",
       "3  LG 1.5 Ton 3 Star AI DUAL Inverter Split AC (C...    appliances   \n",
       "4  Carrier 1.5 Ton 3 Star Inverter Split AC (Copp...    appliances   \n",
       "\n",
       "       sub_category                                              image  \\\n",
       "0  Air Conditioners  https://m.media-amazon.com/images/I/31UISB90sY...   \n",
       "1  Air Conditioners  https://m.media-amazon.com/images/I/51JFb7FctD...   \n",
       "2  Air Conditioners  https://m.media-amazon.com/images/I/51JFb7FctD...   \n",
       "3  Air Conditioners  https://m.media-amazon.com/images/I/51JFb7FctD...   \n",
       "4  Air Conditioners  https://m.media-amazon.com/images/I/41lrtqXPiW...   \n",
       "\n",
       "                                                link ratings no_of_ratings  \\\n",
       "0  https://www.amazon.in/Lloyd-Inverter-Convertib...     4.2         2,255   \n",
       "1  https://www.amazon.in/LG-Convertible-Anti-Viru...     4.2         2,948   \n",
       "2  https://www.amazon.in/LG-Inverter-Convertible-...     4.2         1,206   \n",
       "3  https://www.amazon.in/LG-Convertible-Anti-Viru...     4.0            69   \n",
       "4  https://www.amazon.in/Carrier-Inverter-Split-C...     4.1           630   \n",
       "\n",
       "  discount_price actual_price  \n",
       "0        ₹32,999      ₹58,990  \n",
       "1        ₹46,490      ₹75,990  \n",
       "2        ₹34,490      ₹61,990  \n",
       "3        ₹37,990      ₹68,990  \n",
       "4        ₹34,490      ₹67,790  "
      ]
     },
     "execution_count": 4,
     "metadata": {},
     "output_type": "execute_result"
    }
   ],
   "source": [
    "# Ingest Data\n",
    "file_list = os.listdir(PRODUCTS_PATH)\n",
    "\n",
    "# Extract Data Product \n",
    "df_product_original = extract_multi_csv(PRODUCTS_PATH)\n",
    "\n",
    "# Membuat Staging Area\n",
    "df_products = df_product_original.copy()\n",
    "df_products.drop(columns='Unnamed: 0', inplace=True)\n",
    "\n",
    "# Preview Data\n",
    "df_products.head()\n"
   ]
  },
  {
   "cell_type": "markdown",
   "id": "52b85ea3",
   "metadata": {},
   "source": [
    "### **Data Profiling**"
   ]
  },
  {
   "cell_type": "code",
   "execution_count": 5,
   "id": "44934b93",
   "metadata": {},
   "outputs": [
    {
     "name": "stdout",
     "output_type": "stream",
     "text": [
      "<class 'pandas.core.frame.DataFrame'>\n",
      "RangeIndex: 1103170 entries, 0 to 1103169\n",
      "Data columns (total 9 columns):\n",
      " #   Column          Non-Null Count    Dtype \n",
      "---  ------          --------------    ----- \n",
      " 0   name            1103170 non-null  object\n",
      " 1   main_category   1103170 non-null  object\n",
      " 2   sub_category    1103170 non-null  object\n",
      " 3   image           1103170 non-null  object\n",
      " 4   link            1103170 non-null  object\n",
      " 5   ratings         751582 non-null   object\n",
      " 6   no_of_ratings   751582 non-null   object\n",
      " 7   discount_price  980844 non-null   object\n",
      " 8   actual_price    1067544 non-null  object\n",
      "dtypes: object(9)\n",
      "memory usage: 75.7+ MB\n"
     ]
    }
   ],
   "source": [
    "df_products.info()"
   ]
  },
  {
   "cell_type": "code",
   "execution_count": 6,
   "id": "cf9ada60",
   "metadata": {},
   "outputs": [
    {
     "data": {
      "text/plain": [
       "name                   0\n",
       "main_category          0\n",
       "sub_category           0\n",
       "image                  0\n",
       "link                   0\n",
       "ratings           351588\n",
       "no_of_ratings     351588\n",
       "discount_price    122326\n",
       "actual_price       35626\n",
       "dtype: int64"
      ]
     },
     "execution_count": 6,
     "metadata": {},
     "output_type": "execute_result"
    }
   ],
   "source": [
    "df_products.isnull().sum()"
   ]
  },
  {
   "cell_type": "markdown",
   "id": "fa1ad5e5",
   "metadata": {},
   "source": [
    "### **Data Cleaning & Handling Missing**"
   ]
  },
  {
   "cell_type": "code",
   "execution_count": 7,
   "id": "e80892f7",
   "metadata": {},
   "outputs": [
    {
     "data": {
      "text/plain": [
       "array(['4.2', '4.0', '4.1', '4.3', '3.9', '3.8', '3.5', nan, '4.6', '3.3',\n",
       "       '3.4', '3.7', '2.9', '5.0', '4.4', '3.6', '2.7', '4.5', '3.0',\n",
       "       '3.1', '3.2', '4.8', '4.7', '2.5', '1.0', '2.6', '2.8', '2.3',\n",
       "       '1.7', 'Get', '1.8', '2.4', '4.9', '2.2', '1.6', '1.9', '2.0',\n",
       "       '1.4', '2.1', 'FREE', '1.2', '1.3', '1.5', '₹68.99', '₹65', '1.1',\n",
       "       '₹70', '₹100', '₹99', '₹2.99', 4.0, 3.7, 3.4, 4.1, 3.8, 3.6, 4.2,\n",
       "       3.9, 3.2, 3.5, 5.0, 3.3, 2.6, 4.5, 4.3, 4.7, 3.0, 3.1, 4.4, 4.6,\n",
       "       1.0, 4.9, 2.9, 2.7, 2.2, 2.5, 4.8, 2.0, 1.7, 1.9, 2.8, 2.4, 1.6,\n",
       "       2.3, 1.8, 1.4, 1.3, 2.1, 1.5], dtype=object)"
      ]
     },
     "execution_count": 7,
     "metadata": {},
     "output_type": "execute_result"
    }
   ],
   "source": [
    "df_products['ratings'].unique()"
   ]
  },
  {
   "cell_type": "markdown",
   "id": "363a4ed0",
   "metadata": {},
   "source": [
    "Kolom **`ratings`** masih berisi data yang tidak seragam, seperti teks non-numerik (\"FREE\", \"Get\") dan nilai berbentuk mata uang (\"₹68.99\", \"₹100\"), serta campuran tipe string dan float. Agar dapat dianalisis, kolom ini perlu dibersihkan dengan menghapus nilai tidak valid, membatasi hanya angka dalam rentang 1.0–5.0, lalu mengubahnya ke format numerik `float`."
   ]
  },
  {
   "cell_type": "code",
   "execution_count": 8,
   "id": "6c2b3e05",
   "metadata": {},
   "outputs": [],
   "source": [
    "# mengubah format jadi dari object jadi numeric\n",
    "df_products['ratings'] = pd.to_numeric(df_products['ratings'], errors='coerce').astype(float)"
   ]
  },
  {
   "cell_type": "code",
   "execution_count": 9,
   "id": "d2f24fe1",
   "metadata": {},
   "outputs": [
    {
     "data": {
      "text/plain": [
       "array([4.2, 4. , 4.1, 4.3, 3.9, 3.8, 3.5, nan, 4.6, 3.3, 3.4, 3.7, 2.9,\n",
       "       5. , 4.4, 3.6, 2.7, 4.5, 3. , 3.1, 3.2, 4.8, 4.7, 2.5, 1. , 2.6,\n",
       "       2.8, 2.3, 1.7, 1.8, 2.4, 4.9, 2.2, 1.6, 1.9, 2. , 1.4, 2.1, 1.2,\n",
       "       1.3, 1.5, 1.1])"
      ]
     },
     "execution_count": 9,
     "metadata": {},
     "output_type": "execute_result"
    }
   ],
   "source": [
    "# Preview Hasil\n",
    "df_products['ratings'].unique()"
   ]
  },
  {
   "cell_type": "code",
   "execution_count": 10,
   "id": "59717648",
   "metadata": {},
   "outputs": [
    {
     "data": {
      "text/plain": [
       "array(['2,255', '2,948', '1,206', ..., 5.0, 15.0, 8.0],\n",
       "      shape=(8381,), dtype=object)"
      ]
     },
     "execution_count": 10,
     "metadata": {},
     "output_type": "execute_result"
    }
   ],
   "source": [
    "df_products['no_of_ratings'].unique() "
   ]
  },
  {
   "cell_type": "markdown",
   "id": "0ba4497e",
   "metadata": {},
   "source": [
    "sama halnya dengan kolom 'no_of_ratings' perlu di format dari 'object' menjadi 'numeric'"
   ]
  },
  {
   "cell_type": "code",
   "execution_count": 11,
   "id": "efd4df7a",
   "metadata": {},
   "outputs": [],
   "source": [
    "# mengubah jadi numeric\n",
    "df_products['no_of_ratings'] = pd.to_numeric(df_products['no_of_ratings'].str.replace(\",\", \"\"),errors='coerce')\n",
    "df_products['no_of_ratings'] = df_products['no_of_ratings'].fillna(0)\n",
    "df_products['no_of_ratings'] = df_products['no_of_ratings'].astype('Int64')"
   ]
  },
  {
   "cell_type": "code",
   "execution_count": 12,
   "id": "b2c873d4",
   "metadata": {},
   "outputs": [
    {
     "data": {
      "text/plain": [
       "<IntegerArray>\n",
       "[ 2255,  2948,  1206,    69,   630,  1666,  1097,  1494,   674,   801,\n",
       " ...\n",
       "  6216,  5916,  3116,  5183, 67255,  5603, 55051,  3329,  7141,  4406]\n",
       "Length: 8285, dtype: Int64"
      ]
     },
     "execution_count": 12,
     "metadata": {},
     "output_type": "execute_result"
    }
   ],
   "source": [
    "df_products['no_of_ratings'].unique() "
   ]
  },
  {
   "cell_type": "code",
   "execution_count": 13,
   "id": "4ed84aac",
   "metadata": {},
   "outputs": [
    {
     "data": {
      "text/plain": [
       "array(['₹58,990', '₹75,990', '₹61,990', ..., '₹608.97', '₹4,792',\n",
       "       '₹8,023.60'], shape=(23171,), dtype=object)"
      ]
     },
     "execution_count": 13,
     "metadata": {},
     "output_type": "execute_result"
    }
   ],
   "source": [
    "df_products['actual_price'].unique()"
   ]
  },
  {
   "cell_type": "code",
   "execution_count": 14,
   "id": "039955c3",
   "metadata": {},
   "outputs": [
    {
     "data": {
      "text/plain": [
       "array(['₹32,999', '₹46,490', '₹34,490', ..., '₹3,712.10', '₹1,429.60',\n",
       "       '₹651.01'], shape=(27512,), dtype=object)"
      ]
     },
     "execution_count": 14,
     "metadata": {},
     "output_type": "execute_result"
    }
   ],
   "source": [
    "df_products['discount_price'].unique()"
   ]
  },
  {
   "cell_type": "markdown",
   "id": "fee9cdfb",
   "metadata": {},
   "source": [
    "Dataset memiliki dua kolom utama terkait harga:  \n",
    "\n",
    "- **`discount_price`** → harga produk setelah diskon, masih dalam format string dengan simbol mata uang (`₹`) dan tanda pemisah ribuan (`,`).  \n",
    "- **`actual_price`** → harga asli produk sebelum diskon, juga masih berupa string dengan simbol mata uang dan pemisah ribuan.  \n",
    "\n",
    "Agar dapat dianalisis lebih lanjut, diperlukan beberapa langkah pembersihan data:  \n",
    "\n",
    "1. Membuat kolom baru bernama **`currency`** untuk menyimpan simbol mata uang (misalnya `₹`, `$`, `Rp`).  \n",
    "2. Menghapus simbol mata uang dan tanda pemisah ribuan dari kolom harga.  \n",
    "3. Mengonversi nilai harga ke tipe numerik (`float64`).  \n",
    "\n",
    "Dengan cara ini, informasi harga tetap terjaga dan analisis lintas mata uang dapat dilakukan dengan lebih fleksibel.  "
   ]
  },
  {
   "cell_type": "markdown",
   "id": "a8855ebf",
   "metadata": {},
   "source": [
    "Kolom discount_price masih berisi nilai harga dalam format string yang disertai simbol mata uang (₹) serta tanda pemisah ribuan (,). Kondisi ini membuat kolom belum bisa diolah sebagai data numerik. Agar dapat dianalisis, langkah yang perlu dilakukan adalah membersihkan data dengan cara menghapus simbol mata uang dan tanda pemisah, lalu mengonversinya ke tipe numerik (float64). Dengan begitu, nilai harga dapat digunakan untuk perhitungan statistik maupun analisis perbandingan harga."
   ]
  },
  {
   "cell_type": "code",
   "execution_count": 15,
   "id": "a2595ed9",
   "metadata": {},
   "outputs": [],
   "source": [
    "# Discount_Price\n",
    "df_products['discount_price'] = pd.to_numeric(df_products['discount_price'].str.replace(r'[₹,]','', regex=True),errors='coerce')\n",
    "\n",
    "# Actual Price\n",
    "df_products['currency']= df_products['actual_price'].str[:1] # membuat kolom baru currency \"₹\"\n",
    "df_products['actual_price'] = df_products['actual_price'].str.replace(r'[₹,]','', regex=True).astype(float)"
   ]
  },
  {
   "cell_type": "markdown",
   "id": "4e8ac021",
   "metadata": {},
   "source": [
    "Setelah dianalisis, ternyata memang beberapa row memiliki harga 0, kita akan mengubahnya untuk menjadi NaN."
   ]
  },
  {
   "cell_type": "code",
   "execution_count": 16,
   "id": "cdd3518c",
   "metadata": {},
   "outputs": [],
   "source": [
    "df_products['actual_price'] = df_products['actual_price'].replace(0,np.nan)"
   ]
  },
  {
   "cell_type": "code",
   "execution_count": 17,
   "id": "0a1f37dc",
   "metadata": {},
   "outputs": [],
   "source": [
    "# Membuat discount_percentage\n",
    "df_products['discount_percentage'] = ((df_products['actual_price'] - df_products['discount_price']) / df_products['actual_price'] * 100).round(1)"
   ]
  },
  {
   "cell_type": "code",
   "execution_count": 18,
   "id": "ffc444e4",
   "metadata": {},
   "outputs": [
    {
     "data": {
      "text/html": [
       "<div>\n",
       "<style scoped>\n",
       "    .dataframe tbody tr th:only-of-type {\n",
       "        vertical-align: middle;\n",
       "    }\n",
       "\n",
       "    .dataframe tbody tr th {\n",
       "        vertical-align: top;\n",
       "    }\n",
       "\n",
       "    .dataframe thead th {\n",
       "        text-align: right;\n",
       "    }\n",
       "</style>\n",
       "<table border=\"1\" class=\"dataframe\">\n",
       "  <thead>\n",
       "    <tr style=\"text-align: right;\">\n",
       "      <th></th>\n",
       "      <th>name</th>\n",
       "      <th>main_category</th>\n",
       "      <th>sub_category</th>\n",
       "      <th>image</th>\n",
       "      <th>link</th>\n",
       "      <th>ratings</th>\n",
       "      <th>no_of_ratings</th>\n",
       "      <th>discount_price</th>\n",
       "      <th>actual_price</th>\n",
       "      <th>currency</th>\n",
       "      <th>discount_percentage</th>\n",
       "    </tr>\n",
       "  </thead>\n",
       "  <tbody>\n",
       "    <tr>\n",
       "      <th>0</th>\n",
       "      <td>Lloyd 1.5 Ton 3 Star Inverter Split Ac (5 In 1...</td>\n",
       "      <td>appliances</td>\n",
       "      <td>Air Conditioners</td>\n",
       "      <td>https://m.media-amazon.com/images/I/31UISB90sY...</td>\n",
       "      <td>https://www.amazon.in/Lloyd-Inverter-Convertib...</td>\n",
       "      <td>4.2</td>\n",
       "      <td>2255</td>\n",
       "      <td>32999.0</td>\n",
       "      <td>58990.0</td>\n",
       "      <td>₹</td>\n",
       "      <td>44.1</td>\n",
       "    </tr>\n",
       "    <tr>\n",
       "      <th>1</th>\n",
       "      <td>LG 1.5 Ton 5 Star AI DUAL Inverter Split AC (C...</td>\n",
       "      <td>appliances</td>\n",
       "      <td>Air Conditioners</td>\n",
       "      <td>https://m.media-amazon.com/images/I/51JFb7FctD...</td>\n",
       "      <td>https://www.amazon.in/LG-Convertible-Anti-Viru...</td>\n",
       "      <td>4.2</td>\n",
       "      <td>2948</td>\n",
       "      <td>46490.0</td>\n",
       "      <td>75990.0</td>\n",
       "      <td>₹</td>\n",
       "      <td>38.8</td>\n",
       "    </tr>\n",
       "    <tr>\n",
       "      <th>2</th>\n",
       "      <td>LG 1 Ton 4 Star Ai Dual Inverter Split Ac (Cop...</td>\n",
       "      <td>appliances</td>\n",
       "      <td>Air Conditioners</td>\n",
       "      <td>https://m.media-amazon.com/images/I/51JFb7FctD...</td>\n",
       "      <td>https://www.amazon.in/LG-Inverter-Convertible-...</td>\n",
       "      <td>4.2</td>\n",
       "      <td>1206</td>\n",
       "      <td>34490.0</td>\n",
       "      <td>61990.0</td>\n",
       "      <td>₹</td>\n",
       "      <td>44.4</td>\n",
       "    </tr>\n",
       "    <tr>\n",
       "      <th>3</th>\n",
       "      <td>LG 1.5 Ton 3 Star AI DUAL Inverter Split AC (C...</td>\n",
       "      <td>appliances</td>\n",
       "      <td>Air Conditioners</td>\n",
       "      <td>https://m.media-amazon.com/images/I/51JFb7FctD...</td>\n",
       "      <td>https://www.amazon.in/LG-Convertible-Anti-Viru...</td>\n",
       "      <td>4.0</td>\n",
       "      <td>69</td>\n",
       "      <td>37990.0</td>\n",
       "      <td>68990.0</td>\n",
       "      <td>₹</td>\n",
       "      <td>44.9</td>\n",
       "    </tr>\n",
       "    <tr>\n",
       "      <th>4</th>\n",
       "      <td>Carrier 1.5 Ton 3 Star Inverter Split AC (Copp...</td>\n",
       "      <td>appliances</td>\n",
       "      <td>Air Conditioners</td>\n",
       "      <td>https://m.media-amazon.com/images/I/41lrtqXPiW...</td>\n",
       "      <td>https://www.amazon.in/Carrier-Inverter-Split-C...</td>\n",
       "      <td>4.1</td>\n",
       "      <td>630</td>\n",
       "      <td>34490.0</td>\n",
       "      <td>67790.0</td>\n",
       "      <td>₹</td>\n",
       "      <td>49.1</td>\n",
       "    </tr>\n",
       "  </tbody>\n",
       "</table>\n",
       "</div>"
      ],
      "text/plain": [
       "                                                name main_category  \\\n",
       "0  Lloyd 1.5 Ton 3 Star Inverter Split Ac (5 In 1...    appliances   \n",
       "1  LG 1.5 Ton 5 Star AI DUAL Inverter Split AC (C...    appliances   \n",
       "2  LG 1 Ton 4 Star Ai Dual Inverter Split Ac (Cop...    appliances   \n",
       "3  LG 1.5 Ton 3 Star AI DUAL Inverter Split AC (C...    appliances   \n",
       "4  Carrier 1.5 Ton 3 Star Inverter Split AC (Copp...    appliances   \n",
       "\n",
       "       sub_category                                              image  \\\n",
       "0  Air Conditioners  https://m.media-amazon.com/images/I/31UISB90sY...   \n",
       "1  Air Conditioners  https://m.media-amazon.com/images/I/51JFb7FctD...   \n",
       "2  Air Conditioners  https://m.media-amazon.com/images/I/51JFb7FctD...   \n",
       "3  Air Conditioners  https://m.media-amazon.com/images/I/51JFb7FctD...   \n",
       "4  Air Conditioners  https://m.media-amazon.com/images/I/41lrtqXPiW...   \n",
       "\n",
       "                                                link  ratings  no_of_ratings  \\\n",
       "0  https://www.amazon.in/Lloyd-Inverter-Convertib...      4.2           2255   \n",
       "1  https://www.amazon.in/LG-Convertible-Anti-Viru...      4.2           2948   \n",
       "2  https://www.amazon.in/LG-Inverter-Convertible-...      4.2           1206   \n",
       "3  https://www.amazon.in/LG-Convertible-Anti-Viru...      4.0             69   \n",
       "4  https://www.amazon.in/Carrier-Inverter-Split-C...      4.1            630   \n",
       "\n",
       "   discount_price  actual_price currency  discount_percentage  \n",
       "0         32999.0       58990.0        ₹                 44.1  \n",
       "1         46490.0       75990.0        ₹                 38.8  \n",
       "2         34490.0       61990.0        ₹                 44.4  \n",
       "3         37990.0       68990.0        ₹                 44.9  \n",
       "4         34490.0       67790.0        ₹                 49.1  "
      ]
     },
     "execution_count": 18,
     "metadata": {},
     "output_type": "execute_result"
    }
   ],
   "source": [
    "# Preview 'df_product'\n",
    "df_products.head()"
   ]
  },
  {
   "cell_type": "markdown",
   "id": "9b1d92c6",
   "metadata": {},
   "source": [
    "### **Exploratory Analysis**  "
   ]
  },
  {
   "cell_type": "markdown",
   "id": "076604e4",
   "metadata": {},
   "source": [
    "## Pendahuluan\n",
    "\n",
    "Sebelum mulai eksplorasi/analisis data, kita perlu lihat gambaran umum dataset.  \n",
    "Tujuannya biar tahu struktur, tipe data, dan kondisi awal sebelum diolah lebih lanjut.  \n",
    "\n",
    "Beberapa fungsi yang sering dipakai untuk data overview:  \n",
    "- `df_products.head()` → lihat beberapa baris pertama  \n",
    "- `df_products.info()` → lihat tipe data & missing values  \n",
    "- `df_products.describe()` → statistik deskriptif kolom numerik  \n",
    "- `df_products.shape` → cek jumlah baris & kolom  \n"
   ]
  },
  {
   "cell_type": "markdown",
   "id": "d47ddbb3",
   "metadata": {},
   "source": [
    "\n",
    "\n",
    "Untuk memulai analisis, kita terlebih dahulu melihat gambaran umum dataset ini.  \n",
    "Dataset mencakup lebih dari **1,1 juta produk e-commerce** dengan beberapa informasi penting, seperti:  \n",
    "\n",
    "- **Kategori** → `main_category`, `sub_category`  \n",
    "- **Harga** → `actual_price`, `discount_price`, `currency`  \n",
    "- **Diskon** → `discount_percentage`  \n",
    "- **Kualitas produk** → `ratings`  \n",
    "- **Popularitas** → `no_of_ratings`  \n",
    "\n",
    "Pada analisis kali ini, fokus utama kita adalah **Price & Discount Strategy**,  \n",
    "karena faktor harga dan promo biasanya menjadi penentu terbesar dalam perilaku konsumen di marketplace.\n"
   ]
  },
  {
   "cell_type": "code",
   "execution_count": 19,
   "id": "98a40d46",
   "metadata": {},
   "outputs": [
    {
     "data": {
      "text/plain": [
       "Index(['name', 'main_category', 'sub_category', 'image', 'link', 'ratings',\n",
       "       'no_of_ratings', 'discount_price', 'actual_price', 'currency',\n",
       "       'discount_percentage'],\n",
       "      dtype='object')"
      ]
     },
     "execution_count": 19,
     "metadata": {},
     "output_type": "execute_result"
    }
   ],
   "source": [
    "df_products.columns"
   ]
  },
  {
   "cell_type": "code",
   "execution_count": 20,
   "id": "8634d6a2",
   "metadata": {},
   "outputs": [
    {
     "data": {
      "text/plain": [
       "(1103170, 11)"
      ]
     },
     "execution_count": 20,
     "metadata": {},
     "output_type": "execute_result"
    }
   ],
   "source": [
    "df_products.shape"
   ]
  },
  {
   "cell_type": "code",
   "execution_count": 21,
   "id": "770f0bb7",
   "metadata": {},
   "outputs": [
    {
     "name": "stdout",
     "output_type": "stream",
     "text": [
      "<class 'pandas.core.frame.DataFrame'>\n",
      "RangeIndex: 1103170 entries, 0 to 1103169\n",
      "Data columns (total 11 columns):\n",
      " #   Column               Non-Null Count    Dtype  \n",
      "---  ------               --------------    -----  \n",
      " 0   name                 1103170 non-null  object \n",
      " 1   main_category        1103170 non-null  object \n",
      " 2   sub_category         1103170 non-null  object \n",
      " 3   image                1103170 non-null  object \n",
      " 4   link                 1103170 non-null  object \n",
      " 5   ratings              739116 non-null   float64\n",
      " 6   no_of_ratings        1103170 non-null  Int64  \n",
      " 7   discount_price       980844 non-null   float64\n",
      " 8   actual_price         1067538 non-null  float64\n",
      " 9   currency             1067544 non-null  object \n",
      " 10  discount_percentage  980844 non-null   float64\n",
      "dtypes: Int64(1), float64(4), object(6)\n",
      "memory usage: 93.6+ MB\n"
     ]
    }
   ],
   "source": [
    "# Mengecek missing values pada setiap kolom\n",
    "df_products.info()"
   ]
  },
  {
   "cell_type": "code",
   "execution_count": 22,
   "id": "ea3eba8a",
   "metadata": {},
   "outputs": [
    {
     "data": {
      "text/html": [
       "<div>\n",
       "<style scoped>\n",
       "    .dataframe tbody tr th:only-of-type {\n",
       "        vertical-align: middle;\n",
       "    }\n",
       "\n",
       "    .dataframe tbody tr th {\n",
       "        vertical-align: top;\n",
       "    }\n",
       "\n",
       "    .dataframe thead th {\n",
       "        text-align: right;\n",
       "    }\n",
       "</style>\n",
       "<table border=\"1\" class=\"dataframe\">\n",
       "  <thead>\n",
       "    <tr style=\"text-align: right;\">\n",
       "      <th></th>\n",
       "      <th>ratings</th>\n",
       "      <th>no_of_ratings</th>\n",
       "      <th>discount_price</th>\n",
       "      <th>actual_price</th>\n",
       "      <th>discount_percentage</th>\n",
       "    </tr>\n",
       "  </thead>\n",
       "  <tbody>\n",
       "    <tr>\n",
       "      <th>count</th>\n",
       "      <td>739116.000000</td>\n",
       "      <td>1103170.0</td>\n",
       "      <td>9.808440e+05</td>\n",
       "      <td>1.067538e+06</td>\n",
       "      <td>980844.000000</td>\n",
       "    </tr>\n",
       "    <tr>\n",
       "      <th>mean</th>\n",
       "      <td>3.832311</td>\n",
       "      <td>563.313476</td>\n",
       "      <td>2.623161e+03</td>\n",
       "      <td>2.311141e+04</td>\n",
       "      <td>49.255919</td>\n",
       "    </tr>\n",
       "    <tr>\n",
       "      <th>std</th>\n",
       "      <td>0.756101</td>\n",
       "      <td>7092.570454</td>\n",
       "      <td>9.458191e+03</td>\n",
       "      <td>1.355085e+07</td>\n",
       "      <td>21.400565</td>\n",
       "    </tr>\n",
       "    <tr>\n",
       "      <th>min</th>\n",
       "      <td>1.000000</td>\n",
       "      <td>0.0</td>\n",
       "      <td>8.000000e+00</td>\n",
       "      <td>4.000000e+00</td>\n",
       "      <td>0.000000</td>\n",
       "    </tr>\n",
       "    <tr>\n",
       "      <th>25%</th>\n",
       "      <td>3.500000</td>\n",
       "      <td>0.0</td>\n",
       "      <td>3.890000e+02</td>\n",
       "      <td>9.900000e+02</td>\n",
       "      <td>35.000000</td>\n",
       "    </tr>\n",
       "    <tr>\n",
       "      <th>50%</th>\n",
       "      <td>3.900000</td>\n",
       "      <td>4.0</td>\n",
       "      <td>6.790000e+02</td>\n",
       "      <td>1.599000e+03</td>\n",
       "      <td>50.200000</td>\n",
       "    </tr>\n",
       "    <tr>\n",
       "      <th>75%</th>\n",
       "      <td>4.300000</td>\n",
       "      <td>49.0</td>\n",
       "      <td>1.399000e+03</td>\n",
       "      <td>2.999000e+03</td>\n",
       "      <td>65.800000</td>\n",
       "    </tr>\n",
       "    <tr>\n",
       "      <th>max</th>\n",
       "      <td>5.000000</td>\n",
       "      <td>589547.0</td>\n",
       "      <td>1.249990e+06</td>\n",
       "      <td>9.900000e+09</td>\n",
       "      <td>100.000000</td>\n",
       "    </tr>\n",
       "  </tbody>\n",
       "</table>\n",
       "</div>"
      ],
      "text/plain": [
       "             ratings  no_of_ratings  discount_price  actual_price  \\\n",
       "count  739116.000000      1103170.0    9.808440e+05  1.067538e+06   \n",
       "mean        3.832311     563.313476    2.623161e+03  2.311141e+04   \n",
       "std         0.756101    7092.570454    9.458191e+03  1.355085e+07   \n",
       "min         1.000000            0.0    8.000000e+00  4.000000e+00   \n",
       "25%         3.500000            0.0    3.890000e+02  9.900000e+02   \n",
       "50%         3.900000            4.0    6.790000e+02  1.599000e+03   \n",
       "75%         4.300000           49.0    1.399000e+03  2.999000e+03   \n",
       "max         5.000000       589547.0    1.249990e+06  9.900000e+09   \n",
       "\n",
       "       discount_percentage  \n",
       "count        980844.000000  \n",
       "mean             49.255919  \n",
       "std              21.400565  \n",
       "min               0.000000  \n",
       "25%              35.000000  \n",
       "50%              50.200000  \n",
       "75%              65.800000  \n",
       "max             100.000000  "
      ]
     },
     "execution_count": 22,
     "metadata": {},
     "output_type": "execute_result"
    }
   ],
   "source": [
    "df_products.describe()"
   ]
  },
  {
   "cell_type": "code",
   "execution_count": 23,
   "id": "a1f8a6ce",
   "metadata": {},
   "outputs": [
    {
     "data": {
      "text/html": [
       "<div>\n",
       "<style scoped>\n",
       "    .dataframe tbody tr th:only-of-type {\n",
       "        vertical-align: middle;\n",
       "    }\n",
       "\n",
       "    .dataframe tbody tr th {\n",
       "        vertical-align: top;\n",
       "    }\n",
       "\n",
       "    .dataframe thead th {\n",
       "        text-align: right;\n",
       "    }\n",
       "</style>\n",
       "<table border=\"1\" class=\"dataframe\">\n",
       "  <thead>\n",
       "    <tr style=\"text-align: right;\">\n",
       "      <th></th>\n",
       "      <th>name</th>\n",
       "      <th>main_category</th>\n",
       "      <th>sub_category</th>\n",
       "      <th>image</th>\n",
       "      <th>link</th>\n",
       "      <th>ratings</th>\n",
       "      <th>no_of_ratings</th>\n",
       "      <th>discount_price</th>\n",
       "      <th>actual_price</th>\n",
       "      <th>currency</th>\n",
       "      <th>discount_percentage</th>\n",
       "    </tr>\n",
       "  </thead>\n",
       "  <tbody>\n",
       "    <tr>\n",
       "      <th>0</th>\n",
       "      <td>Lloyd 1.5 Ton 3 Star Inverter Split Ac (5 In 1...</td>\n",
       "      <td>appliances</td>\n",
       "      <td>Air Conditioners</td>\n",
       "      <td>https://m.media-amazon.com/images/I/31UISB90sY...</td>\n",
       "      <td>https://www.amazon.in/Lloyd-Inverter-Convertib...</td>\n",
       "      <td>4.2</td>\n",
       "      <td>2255</td>\n",
       "      <td>32999.0</td>\n",
       "      <td>58990.0</td>\n",
       "      <td>₹</td>\n",
       "      <td>44.1</td>\n",
       "    </tr>\n",
       "    <tr>\n",
       "      <th>1</th>\n",
       "      <td>LG 1.5 Ton 5 Star AI DUAL Inverter Split AC (C...</td>\n",
       "      <td>appliances</td>\n",
       "      <td>Air Conditioners</td>\n",
       "      <td>https://m.media-amazon.com/images/I/51JFb7FctD...</td>\n",
       "      <td>https://www.amazon.in/LG-Convertible-Anti-Viru...</td>\n",
       "      <td>4.2</td>\n",
       "      <td>2948</td>\n",
       "      <td>46490.0</td>\n",
       "      <td>75990.0</td>\n",
       "      <td>₹</td>\n",
       "      <td>38.8</td>\n",
       "    </tr>\n",
       "    <tr>\n",
       "      <th>2</th>\n",
       "      <td>LG 1 Ton 4 Star Ai Dual Inverter Split Ac (Cop...</td>\n",
       "      <td>appliances</td>\n",
       "      <td>Air Conditioners</td>\n",
       "      <td>https://m.media-amazon.com/images/I/51JFb7FctD...</td>\n",
       "      <td>https://www.amazon.in/LG-Inverter-Convertible-...</td>\n",
       "      <td>4.2</td>\n",
       "      <td>1206</td>\n",
       "      <td>34490.0</td>\n",
       "      <td>61990.0</td>\n",
       "      <td>₹</td>\n",
       "      <td>44.4</td>\n",
       "    </tr>\n",
       "    <tr>\n",
       "      <th>3</th>\n",
       "      <td>LG 1.5 Ton 3 Star AI DUAL Inverter Split AC (C...</td>\n",
       "      <td>appliances</td>\n",
       "      <td>Air Conditioners</td>\n",
       "      <td>https://m.media-amazon.com/images/I/51JFb7FctD...</td>\n",
       "      <td>https://www.amazon.in/LG-Convertible-Anti-Viru...</td>\n",
       "      <td>4.0</td>\n",
       "      <td>69</td>\n",
       "      <td>37990.0</td>\n",
       "      <td>68990.0</td>\n",
       "      <td>₹</td>\n",
       "      <td>44.9</td>\n",
       "    </tr>\n",
       "    <tr>\n",
       "      <th>4</th>\n",
       "      <td>Carrier 1.5 Ton 3 Star Inverter Split AC (Copp...</td>\n",
       "      <td>appliances</td>\n",
       "      <td>Air Conditioners</td>\n",
       "      <td>https://m.media-amazon.com/images/I/41lrtqXPiW...</td>\n",
       "      <td>https://www.amazon.in/Carrier-Inverter-Split-C...</td>\n",
       "      <td>4.1</td>\n",
       "      <td>630</td>\n",
       "      <td>34490.0</td>\n",
       "      <td>67790.0</td>\n",
       "      <td>₹</td>\n",
       "      <td>49.1</td>\n",
       "    </tr>\n",
       "  </tbody>\n",
       "</table>\n",
       "</div>"
      ],
      "text/plain": [
       "                                                name main_category  \\\n",
       "0  Lloyd 1.5 Ton 3 Star Inverter Split Ac (5 In 1...    appliances   \n",
       "1  LG 1.5 Ton 5 Star AI DUAL Inverter Split AC (C...    appliances   \n",
       "2  LG 1 Ton 4 Star Ai Dual Inverter Split Ac (Cop...    appliances   \n",
       "3  LG 1.5 Ton 3 Star AI DUAL Inverter Split AC (C...    appliances   \n",
       "4  Carrier 1.5 Ton 3 Star Inverter Split AC (Copp...    appliances   \n",
       "\n",
       "       sub_category                                              image  \\\n",
       "0  Air Conditioners  https://m.media-amazon.com/images/I/31UISB90sY...   \n",
       "1  Air Conditioners  https://m.media-amazon.com/images/I/51JFb7FctD...   \n",
       "2  Air Conditioners  https://m.media-amazon.com/images/I/51JFb7FctD...   \n",
       "3  Air Conditioners  https://m.media-amazon.com/images/I/51JFb7FctD...   \n",
       "4  Air Conditioners  https://m.media-amazon.com/images/I/41lrtqXPiW...   \n",
       "\n",
       "                                                link  ratings  no_of_ratings  \\\n",
       "0  https://www.amazon.in/Lloyd-Inverter-Convertib...      4.2           2255   \n",
       "1  https://www.amazon.in/LG-Convertible-Anti-Viru...      4.2           2948   \n",
       "2  https://www.amazon.in/LG-Inverter-Convertible-...      4.2           1206   \n",
       "3  https://www.amazon.in/LG-Convertible-Anti-Viru...      4.0             69   \n",
       "4  https://www.amazon.in/Carrier-Inverter-Split-C...      4.1            630   \n",
       "\n",
       "   discount_price  actual_price currency  discount_percentage  \n",
       "0         32999.0       58990.0        ₹                 44.1  \n",
       "1         46490.0       75990.0        ₹                 38.8  \n",
       "2         34490.0       61990.0        ₹                 44.4  \n",
       "3         37990.0       68990.0        ₹                 44.9  \n",
       "4         34490.0       67790.0        ₹                 49.1  "
      ]
     },
     "execution_count": 23,
     "metadata": {},
     "output_type": "execute_result"
    }
   ],
   "source": [
    "df_products.head()"
   ]
  },
  {
   "cell_type": "code",
   "execution_count": 24,
   "id": "d449bc71",
   "metadata": {},
   "outputs": [
    {
     "name": "stdout",
     "output_type": "stream",
     "text": [
      "<class 'pandas.core.frame.DataFrame'>\n",
      "RangeIndex: 1103170 entries, 0 to 1103169\n",
      "Data columns (total 11 columns):\n",
      " #   Column               Non-Null Count    Dtype  \n",
      "---  ------               --------------    -----  \n",
      " 0   name                 1103170 non-null  object \n",
      " 1   main_category        1103170 non-null  object \n",
      " 2   sub_category         1103170 non-null  object \n",
      " 3   image                1103170 non-null  object \n",
      " 4   link                 1103170 non-null  object \n",
      " 5   ratings              739116 non-null   float64\n",
      " 6   no_of_ratings        1103170 non-null  Int64  \n",
      " 7   discount_price       980844 non-null   float64\n",
      " 8   actual_price         1067538 non-null  float64\n",
      " 9   currency             1067544 non-null  object \n",
      " 10  discount_percentage  980844 non-null   float64\n",
      "dtypes: Int64(1), float64(4), object(6)\n",
      "memory usage: 93.6+ MB\n"
     ]
    }
   ],
   "source": [
    "df_products.info()"
   ]
  },
  {
   "cell_type": "code",
   "execution_count": 25,
   "id": "156be57d",
   "metadata": {},
   "outputs": [],
   "source": [
    "# Sebelum masuk ke analisa, mari kita coba eksplorasi dataset ini. Dataset berisi lebih dari 1,1 juta produk e-commerce dengan informasi:\n",
    "\n",
    "# Kategori (main_category, sub_category)\n",
    "\n",
    "# Harga (actual_price, discount_price, currency)\n",
    "\n",
    "# Diskon (discount_percentage)\n",
    "\n",
    "# Kualitas produk (ratings)\n",
    "\n",
    "# Popularitas (no_of_ratings)\n",
    "\n",
    "# Fokus analisis kita kali ini adalah Price & Discount Strategy, karena harga dan promo biasanya paling memengaruhi perilaku konsumen di marketplace."
   ]
  },
  {
   "cell_type": "markdown",
   "id": "8486ae74",
   "metadata": {},
   "source": [
    "Sebelum masuk ke analisa, mari kita coba eksplorasi dataset ini. Dataset berisi lebih dari 1,1 juta produk e-commerce dengan informasi:\n",
    "\n",
    "Kategori (main_category, sub_category)\n",
    "\n",
    "Harga (actual_price, discount_price, currency)\n",
    "\n",
    "Diskon (discount_percentage)\n",
    "\n",
    "Kualitas produk (ratings)\n",
    "\n",
    "Popularitas (no_of_ratings)\n",
    "\n",
    "Fokus analisis kita kali ini adalah Price & Discount Strategy, karena harga dan promo biasanya paling memengaruhi perilaku konsumen di marketplace."
   ]
  },
  {
   "cell_type": "markdown",
   "id": "1efee354",
   "metadata": {},
   "source": [
    "Top 10 Categories by Number of Products\n"
   ]
  },
  {
   "cell_type": "code",
   "execution_count": 26,
   "id": "23193442",
   "metadata": {},
   "outputs": [
    {
     "data": {
      "text/html": [
       "<div>\n",
       "<style scoped>\n",
       "    .dataframe tbody tr th:only-of-type {\n",
       "        vertical-align: middle;\n",
       "    }\n",
       "\n",
       "    .dataframe tbody tr th {\n",
       "        vertical-align: top;\n",
       "    }\n",
       "\n",
       "    .dataframe thead th {\n",
       "        text-align: right;\n",
       "    }\n",
       "</style>\n",
       "<table border=\"1\" class=\"dataframe\">\n",
       "  <thead>\n",
       "    <tr style=\"text-align: right;\">\n",
       "      <th></th>\n",
       "      <th>name</th>\n",
       "      <th>main_category</th>\n",
       "      <th>sub_category</th>\n",
       "      <th>image</th>\n",
       "      <th>link</th>\n",
       "      <th>ratings</th>\n",
       "      <th>no_of_ratings</th>\n",
       "      <th>discount_price</th>\n",
       "      <th>actual_price</th>\n",
       "      <th>currency</th>\n",
       "      <th>discount_percentage</th>\n",
       "    </tr>\n",
       "  </thead>\n",
       "  <tbody>\n",
       "    <tr>\n",
       "      <th>0</th>\n",
       "      <td>Lloyd 1.5 Ton 3 Star Inverter Split Ac (5 In 1...</td>\n",
       "      <td>appliances</td>\n",
       "      <td>Air Conditioners</td>\n",
       "      <td>https://m.media-amazon.com/images/I/31UISB90sY...</td>\n",
       "      <td>https://www.amazon.in/Lloyd-Inverter-Convertib...</td>\n",
       "      <td>4.2</td>\n",
       "      <td>2255</td>\n",
       "      <td>32999.0</td>\n",
       "      <td>58990.0</td>\n",
       "      <td>₹</td>\n",
       "      <td>44.1</td>\n",
       "    </tr>\n",
       "    <tr>\n",
       "      <th>1</th>\n",
       "      <td>LG 1.5 Ton 5 Star AI DUAL Inverter Split AC (C...</td>\n",
       "      <td>appliances</td>\n",
       "      <td>Air Conditioners</td>\n",
       "      <td>https://m.media-amazon.com/images/I/51JFb7FctD...</td>\n",
       "      <td>https://www.amazon.in/LG-Convertible-Anti-Viru...</td>\n",
       "      <td>4.2</td>\n",
       "      <td>2948</td>\n",
       "      <td>46490.0</td>\n",
       "      <td>75990.0</td>\n",
       "      <td>₹</td>\n",
       "      <td>38.8</td>\n",
       "    </tr>\n",
       "    <tr>\n",
       "      <th>2</th>\n",
       "      <td>LG 1 Ton 4 Star Ai Dual Inverter Split Ac (Cop...</td>\n",
       "      <td>appliances</td>\n",
       "      <td>Air Conditioners</td>\n",
       "      <td>https://m.media-amazon.com/images/I/51JFb7FctD...</td>\n",
       "      <td>https://www.amazon.in/LG-Inverter-Convertible-...</td>\n",
       "      <td>4.2</td>\n",
       "      <td>1206</td>\n",
       "      <td>34490.0</td>\n",
       "      <td>61990.0</td>\n",
       "      <td>₹</td>\n",
       "      <td>44.4</td>\n",
       "    </tr>\n",
       "    <tr>\n",
       "      <th>3</th>\n",
       "      <td>LG 1.5 Ton 3 Star AI DUAL Inverter Split AC (C...</td>\n",
       "      <td>appliances</td>\n",
       "      <td>Air Conditioners</td>\n",
       "      <td>https://m.media-amazon.com/images/I/51JFb7FctD...</td>\n",
       "      <td>https://www.amazon.in/LG-Convertible-Anti-Viru...</td>\n",
       "      <td>4.0</td>\n",
       "      <td>69</td>\n",
       "      <td>37990.0</td>\n",
       "      <td>68990.0</td>\n",
       "      <td>₹</td>\n",
       "      <td>44.9</td>\n",
       "    </tr>\n",
       "    <tr>\n",
       "      <th>4</th>\n",
       "      <td>Carrier 1.5 Ton 3 Star Inverter Split AC (Copp...</td>\n",
       "      <td>appliances</td>\n",
       "      <td>Air Conditioners</td>\n",
       "      <td>https://m.media-amazon.com/images/I/41lrtqXPiW...</td>\n",
       "      <td>https://www.amazon.in/Carrier-Inverter-Split-C...</td>\n",
       "      <td>4.1</td>\n",
       "      <td>630</td>\n",
       "      <td>34490.0</td>\n",
       "      <td>67790.0</td>\n",
       "      <td>₹</td>\n",
       "      <td>49.1</td>\n",
       "    </tr>\n",
       "  </tbody>\n",
       "</table>\n",
       "</div>"
      ],
      "text/plain": [
       "                                                name main_category  \\\n",
       "0  Lloyd 1.5 Ton 3 Star Inverter Split Ac (5 In 1...    appliances   \n",
       "1  LG 1.5 Ton 5 Star AI DUAL Inverter Split AC (C...    appliances   \n",
       "2  LG 1 Ton 4 Star Ai Dual Inverter Split Ac (Cop...    appliances   \n",
       "3  LG 1.5 Ton 3 Star AI DUAL Inverter Split AC (C...    appliances   \n",
       "4  Carrier 1.5 Ton 3 Star Inverter Split AC (Copp...    appliances   \n",
       "\n",
       "       sub_category                                              image  \\\n",
       "0  Air Conditioners  https://m.media-amazon.com/images/I/31UISB90sY...   \n",
       "1  Air Conditioners  https://m.media-amazon.com/images/I/51JFb7FctD...   \n",
       "2  Air Conditioners  https://m.media-amazon.com/images/I/51JFb7FctD...   \n",
       "3  Air Conditioners  https://m.media-amazon.com/images/I/51JFb7FctD...   \n",
       "4  Air Conditioners  https://m.media-amazon.com/images/I/41lrtqXPiW...   \n",
       "\n",
       "                                                link  ratings  no_of_ratings  \\\n",
       "0  https://www.amazon.in/Lloyd-Inverter-Convertib...      4.2           2255   \n",
       "1  https://www.amazon.in/LG-Convertible-Anti-Viru...      4.2           2948   \n",
       "2  https://www.amazon.in/LG-Inverter-Convertible-...      4.2           1206   \n",
       "3  https://www.amazon.in/LG-Convertible-Anti-Viru...      4.0             69   \n",
       "4  https://www.amazon.in/Carrier-Inverter-Split-C...      4.1            630   \n",
       "\n",
       "   discount_price  actual_price currency  discount_percentage  \n",
       "0         32999.0       58990.0        ₹                 44.1  \n",
       "1         46490.0       75990.0        ₹                 38.8  \n",
       "2         34490.0       61990.0        ₹                 44.4  \n",
       "3         37990.0       68990.0        ₹                 44.9  \n",
       "4         34490.0       67790.0        ₹                 49.1  "
      ]
     },
     "execution_count": 26,
     "metadata": {},
     "output_type": "execute_result"
    }
   ],
   "source": [
    "df_products.head()"
   ]
  },
  {
   "cell_type": "code",
   "execution_count": 31,
   "id": "cce68d09",
   "metadata": {},
   "outputs": [
    {
     "data": {
      "text/plain": [
       "Index(['name', 'main_category', 'sub_category', 'image', 'link', 'ratings',\n",
       "       'no_of_ratings', 'discount_price', 'actual_price', 'currency',\n",
       "       'discount_percentage'],\n",
       "      dtype='object')"
      ]
     },
     "execution_count": 31,
     "metadata": {},
     "output_type": "execute_result"
    }
   ],
   "source": [
    "df_products.columns"
   ]
  },
  {
   "cell_type": "markdown",
   "id": "5512959d",
   "metadata": {},
   "source": [
    "**Top 10 Categories by Number of Products (Bar Chart)**"
   ]
  },
  {
   "cell_type": "code",
   "execution_count": 36,
   "id": "586a4330",
   "metadata": {},
   "outputs": [
    {
     "data": {
      "text/html": [
       "<div>\n",
       "<style scoped>\n",
       "    .dataframe tbody tr th:only-of-type {\n",
       "        vertical-align: middle;\n",
       "    }\n",
       "\n",
       "    .dataframe tbody tr th {\n",
       "        vertical-align: top;\n",
       "    }\n",
       "\n",
       "    .dataframe thead th {\n",
       "        text-align: right;\n",
       "    }\n",
       "</style>\n",
       "<table border=\"1\" class=\"dataframe\">\n",
       "  <thead>\n",
       "    <tr style=\"text-align: right;\">\n",
       "      <th></th>\n",
       "      <th>total_product</th>\n",
       "    </tr>\n",
       "    <tr>\n",
       "      <th>main_category</th>\n",
       "      <th></th>\n",
       "    </tr>\n",
       "  </thead>\n",
       "  <tbody>\n",
       "    <tr>\n",
       "      <th>accessories</th>\n",
       "      <td>232282</td>\n",
       "    </tr>\n",
       "    <tr>\n",
       "      <th>men's clothing</th>\n",
       "      <td>153312</td>\n",
       "    </tr>\n",
       "    <tr>\n",
       "      <th>women's clothing</th>\n",
       "      <td>153024</td>\n",
       "    </tr>\n",
       "    <tr>\n",
       "      <th>tv, audio &amp; cameras</th>\n",
       "      <td>137318</td>\n",
       "    </tr>\n",
       "    <tr>\n",
       "      <th>men's shoes</th>\n",
       "      <td>114912</td>\n",
       "    </tr>\n",
       "    <tr>\n",
       "      <th>appliances</th>\n",
       "      <td>66192</td>\n",
       "    </tr>\n",
       "    <tr>\n",
       "      <th>stores</th>\n",
       "      <td>65806</td>\n",
       "    </tr>\n",
       "    <tr>\n",
       "      <th>home &amp; kitchen</th>\n",
       "      <td>29136</td>\n",
       "    </tr>\n",
       "    <tr>\n",
       "      <th>kids' fashion</th>\n",
       "      <td>26976</td>\n",
       "    </tr>\n",
       "    <tr>\n",
       "      <th>sports &amp; fitness</th>\n",
       "      <td>25296</td>\n",
       "    </tr>\n",
       "  </tbody>\n",
       "</table>\n",
       "</div>"
      ],
      "text/plain": [
       "                     total_product\n",
       "main_category                     \n",
       "accessories                 232282\n",
       "men's clothing              153312\n",
       "women's clothing            153024\n",
       "tv, audio & cameras         137318\n",
       "men's shoes                 114912\n",
       "appliances                   66192\n",
       "stores                       65806\n",
       "home & kitchen               29136\n",
       "kids' fashion                26976\n",
       "sports & fitness             25296"
      ]
     },
     "execution_count": 36,
     "metadata": {},
     "output_type": "execute_result"
    }
   ],
   "source": [
    "df_products.groupby('main_category').agg(total_product=(\"name\",\"count\")).sort_values(\"total_product\",ascending=False).head(10)"
   ]
  },
  {
   "cell_type": "markdown",
   "id": "c9057541",
   "metadata": {},
   "source": [
    "**Note**\n",
    "- **Accessories (232k)**, **Men’s Clothing (153k)**, **Women’s Clothing (153k)** → kategori terbesar & sangat kompetitif.  \n",
    "- **Kids’ Fashion (26k)** dan **Sports & Fitness (25k)** relatif kecil → peluang penetrasi pasar lebih tinggi.  "
   ]
  },
  {
   "cell_type": "markdown",
   "id": "4ba1807f",
   "metadata": {},
   "source": [
    "**Average Price per Category (Top 10 by Price)**"
   ]
  },
  {
   "cell_type": "code",
   "execution_count": 34,
   "id": "b6fa2e6b",
   "metadata": {},
   "outputs": [
    {
     "data": {
      "text/html": [
       "<div>\n",
       "<style scoped>\n",
       "    .dataframe tbody tr th:only-of-type {\n",
       "        vertical-align: middle;\n",
       "    }\n",
       "\n",
       "    .dataframe tbody tr th {\n",
       "        vertical-align: top;\n",
       "    }\n",
       "\n",
       "    .dataframe thead th {\n",
       "        text-align: right;\n",
       "    }\n",
       "</style>\n",
       "<table border=\"1\" class=\"dataframe\">\n",
       "  <thead>\n",
       "    <tr style=\"text-align: right;\">\n",
       "      <th></th>\n",
       "      <th>avg_price</th>\n",
       "    </tr>\n",
       "    <tr>\n",
       "      <th>main_category</th>\n",
       "      <th></th>\n",
       "    </tr>\n",
       "  </thead>\n",
       "  <tbody>\n",
       "    <tr>\n",
       "      <th>home &amp; kitchen</th>\n",
       "      <td>685834.564014</td>\n",
       "    </tr>\n",
       "    <tr>\n",
       "      <th>accessories</th>\n",
       "      <td>8136.306196</td>\n",
       "    </tr>\n",
       "    <tr>\n",
       "      <th>appliances</th>\n",
       "      <td>8132.086333</td>\n",
       "    </tr>\n",
       "    <tr>\n",
       "      <th>sports &amp; fitness</th>\n",
       "      <td>8084.115472</td>\n",
       "    </tr>\n",
       "    <tr>\n",
       "      <th>tv, audio &amp; cameras</th>\n",
       "      <td>5725.719018</td>\n",
       "    </tr>\n",
       "    <tr>\n",
       "      <th>music</th>\n",
       "      <td>5621.817669</td>\n",
       "    </tr>\n",
       "    <tr>\n",
       "      <th>stores</th>\n",
       "      <td>4959.771051</td>\n",
       "    </tr>\n",
       "    <tr>\n",
       "      <th>home, kitchen, pets</th>\n",
       "      <td>4468.117647</td>\n",
       "    </tr>\n",
       "    <tr>\n",
       "      <th>bags &amp; luggage</th>\n",
       "      <td>4047.907297</td>\n",
       "    </tr>\n",
       "    <tr>\n",
       "      <th>men's shoes</th>\n",
       "      <td>3853.485408</td>\n",
       "    </tr>\n",
       "  </tbody>\n",
       "</table>\n",
       "</div>"
      ],
      "text/plain": [
       "                         avg_price\n",
       "main_category                     \n",
       "home & kitchen       685834.564014\n",
       "accessories            8136.306196\n",
       "appliances             8132.086333\n",
       "sports & fitness       8084.115472\n",
       "tv, audio & cameras    5725.719018\n",
       "music                  5621.817669\n",
       "stores                 4959.771051\n",
       "home, kitchen, pets    4468.117647\n",
       "bags & luggage         4047.907297\n",
       "men's shoes            3853.485408"
      ]
     },
     "execution_count": 34,
     "metadata": {},
     "output_type": "execute_result"
    }
   ],
   "source": [
    "df_products.groupby('main_category').agg(avg_price=(\"actual_price\",\"mean\")).sort_values(\"avg_price\",ascending=False).head(10)"
   ]
  },
  {
   "cell_type": "markdown",
   "id": "62a838ce",
   "metadata": {},
   "source": [
    "**Note**\n",
    "- **Home & Kitchen (±685k)** jadi outlier → indikasi data ekstrim atau positioning premium.  \n",
    "- Premium categories: **Accessories (8.1k)**, **Appliances (8.1k)**, **Sports & Fitness (8k)**.  \n",
    "- **Men’s Shoes (3.8k)** dan **Bags & Luggage (4k)** → mass-market.  "
   ]
  },
  {
   "cell_type": "markdown",
   "id": "66c8c20b",
   "metadata": {},
   "source": [
    "**Average Discount per Category (Top 10 by Discount %)**"
   ]
  },
  {
   "cell_type": "code",
   "execution_count": 38,
   "id": "1286cb7a",
   "metadata": {},
   "outputs": [
    {
     "data": {
      "text/html": [
       "<div>\n",
       "<style scoped>\n",
       "    .dataframe tbody tr th:only-of-type {\n",
       "        vertical-align: middle;\n",
       "    }\n",
       "\n",
       "    .dataframe tbody tr th {\n",
       "        vertical-align: top;\n",
       "    }\n",
       "\n",
       "    .dataframe thead th {\n",
       "        text-align: right;\n",
       "    }\n",
       "</style>\n",
       "<table border=\"1\" class=\"dataframe\">\n",
       "  <thead>\n",
       "    <tr style=\"text-align: right;\">\n",
       "      <th></th>\n",
       "      <th>avg_discount_rate</th>\n",
       "    </tr>\n",
       "    <tr>\n",
       "      <th>main_category</th>\n",
       "      <th></th>\n",
       "    </tr>\n",
       "  </thead>\n",
       "  <tbody>\n",
       "    <tr>\n",
       "      <th>women's clothing</th>\n",
       "      <td>59.608691</td>\n",
       "    </tr>\n",
       "    <tr>\n",
       "      <th>accessories</th>\n",
       "      <td>52.910485</td>\n",
       "    </tr>\n",
       "    <tr>\n",
       "      <th>stores</th>\n",
       "      <td>51.882326</td>\n",
       "    </tr>\n",
       "    <tr>\n",
       "      <th>bags &amp; luggage</th>\n",
       "      <td>50.347904</td>\n",
       "    </tr>\n",
       "    <tr>\n",
       "      <th>tv, audio &amp; cameras</th>\n",
       "      <td>48.836491</td>\n",
       "    </tr>\n",
       "    <tr>\n",
       "      <th>home &amp; kitchen</th>\n",
       "      <td>48.218667</td>\n",
       "    </tr>\n",
       "    <tr>\n",
       "      <th>sports &amp; fitness</th>\n",
       "      <td>48.009705</td>\n",
       "    </tr>\n",
       "    <tr>\n",
       "      <th>car &amp; motorbike</th>\n",
       "      <td>46.917972</td>\n",
       "    </tr>\n",
       "    <tr>\n",
       "      <th>men's clothing</th>\n",
       "      <td>46.354725</td>\n",
       "    </tr>\n",
       "    <tr>\n",
       "      <th>women's shoes</th>\n",
       "      <td>46.332923</td>\n",
       "    </tr>\n",
       "  </tbody>\n",
       "</table>\n",
       "</div>"
      ],
      "text/plain": [
       "                     avg_discount_rate\n",
       "main_category                         \n",
       "women's clothing             59.608691\n",
       "accessories                  52.910485\n",
       "stores                       51.882326\n",
       "bags & luggage               50.347904\n",
       "tv, audio & cameras          48.836491\n",
       "home & kitchen               48.218667\n",
       "sports & fitness             48.009705\n",
       "car & motorbike              46.917972\n",
       "men's clothing               46.354725\n",
       "women's shoes                46.332923"
      ]
     },
     "execution_count": 38,
     "metadata": {},
     "output_type": "execute_result"
    }
   ],
   "source": [
    "df_products.groupby(\"main_category\").agg(avg_discount_rate=(\"discount_percentage\",\"mean\")).sort_values(\"avg_discount_rate\", ascending=False).head(10)"
   ]
  },
  {
   "cell_type": "markdown",
   "id": "897d512f",
   "metadata": {},
   "source": [
    "**Discount vs Popularity (Scatter Plot)**"
   ]
  },
  {
   "cell_type": "code",
   "execution_count": 39,
   "id": "825b32c4",
   "metadata": {},
   "outputs": [
    {
     "data": {
      "image/png": "[encoded data removed]",
      "text/plain": [
       "<Figure size 800x600 with 2 Axes>"
      ]
     },
     "metadata": {},
     "output_type": "display_data"
    }
   ],
   "source": [
    "import matplotlib.pyplot as plt\n",
    "\n",
    "sc = (\n",
    "df_products.groupby(\"main_category\")\n",
    ".agg(\n",
    "avg_discount_pct=(\"discount_percentage\", \"mean\"),\n",
    "total_reviews=(\"no_of_ratings\", \"sum\"),\n",
    "avg_price=(\"actual_price\", \"mean\"),\n",
    "total_products=(\"name\", \"count\")\n",
    ")\n",
    ".dropna()\n",
    ".reset_index()\n",
    ")\n",
    "\n",
    "\n",
    "sizes = sc[\"total_products\"].astype(float)\n",
    "sizes = 50 + (sizes - sizes.min()) / (sizes.max() - sizes.min() + 1e-9) * 950\n",
    "\n",
    "\n",
    "plt.figure(figsize=(8,6))\n",
    "scatter = plt.scatter(\n",
    "sc[\"avg_discount_pct\"], sc[\"total_reviews\"],\n",
    "s=sizes,\n",
    "c=sc[\"avg_price\"], cmap='viridis', alpha=0.7, edgecolors='w', linewidths=0.5\n",
    ")\n",
    "plt.title(\"Discount vs Popularity by Category\")\n",
    "plt.xlabel(\"Avg Discount (%)\")\n",
    "plt.ylabel(\"Total Reviews\")\n",
    "cb = plt.colorbar(scatter)\n",
    "cb.set_label(\"Avg Price\")\n",
    "plt.tight_layout()\n",
    "plt.show()"
   ]
  },
  {
   "cell_type": "markdown",
   "id": "dbf7e30a",
   "metadata": {},
   "source": [
    "**Note**\n",
    "- Diskon tinggi ≠ populeritas tinggi.  \n",
    "- Beberapa kategori dengan review besar tetap populer meski diskon moderat → **brand trust & kualitas produk** lebih penting.  \n",
    "- Fashion categories jenuh: diskon besar tapi tidak selalu meningkatkan review.  \n"
   ]
  },
  {
   "cell_type": "markdown",
   "id": "a4e0e1f0",
   "metadata": {},
   "source": [
    "## Business Insights\n",
    "1. Fashion categories are discount-driven but oversaturated\n",
    "Meski diskonnya besar (50–60%), kategori fashion seperti **women’s clothing** dan **accessories** tetap sangat kompetitif.  \n",
    "-> Diskon saja tidak cukup untuk memenangkan pasar — perlu **brand positioning, niche targeting, dan program loyalitas**.\n",
    "\n",
    "2. Premium categories thrive on value, not price cuts\n",
    "Produk mahal seperti **home & kitchen** dan **appliances** punya daya jual tinggi meski tanpa diskon besar.  \n",
    "-> Pelanggan segmen ini lebih peduli pada **kualitas, bundling, garansi, dan layanan after-sales** dibanding potongan harga.\n",
    "\n",
    "3. Trust signals outperform discounts\n",
    "Analisis scatter plot menunjukkan kategori dengan **review banyak lebih populer**, meski diskonnya tidak terlalu besar.  \n",
    "➡️ **Customer trust (review & rating)** terbukti lebih efektif mendorong penjualan daripada sekadar perang harga."
   ]
  }
 ],
 "metadata": {
  "kernelspec": {
   "display_name": "venv",
   "language": "python",
   "name": "python3"
  },
  "language_info": {
   "codemirror_mode": {
    "name": "ipython",
    "version": 3
   },
   "file_extension": ".py",
   "mimetype": "text/x-python",
   "name": "python",
   "nbconvert_exporter": "python",
   "pygments_lexer": "ipython3",
   "version": "3.12.9"
  }
 },
 "nbformat": 4,
 "nbformat_minor": 5
}
