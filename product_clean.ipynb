{
 "cells": [
  {
   "cell_type": "markdown",
   "id": "fad46c85",
   "metadata": {},
   "source": [
    "### **Import Libraries & Setup**"
   ]
  },
  {
   "cell_type": "code",
   "execution_count": 87,
   "id": "9ede0540",
   "metadata": {},
   "outputs": [],
   "source": [
    "# Import Library\n",
    "import pandas as pd\n",
    "import numpy as np\n",
    "import os \n",
    "from src.utils import extract_multi_csv\n",
    "from config.setting import PRODUCTS_PATH"
   ]
  },
  {
   "cell_type": "markdown",
   "id": "4607e371",
   "metadata": {},
   "source": [
    "### **Data Ingestion**"
   ]
  },
  {
   "cell_type": "code",
   "execution_count": 88,
   "id": "3504b44f",
   "metadata": {},
   "outputs": [
    {
     "data": {
      "text/html": [
       "<div>\n",
       "<style scoped>\n",
       "    .dataframe tbody tr th:only-of-type {\n",
       "        vertical-align: middle;\n",
       "    }\n",
       "\n",
       "    .dataframe tbody tr th {\n",
       "        vertical-align: top;\n",
       "    }\n",
       "\n",
       "    .dataframe thead th {\n",
       "        text-align: right;\n",
       "    }\n",
       "</style>\n",
       "<table border=\"1\" class=\"dataframe\">\n",
       "  <thead>\n",
       "    <tr style=\"text-align: right;\">\n",
       "      <th></th>\n",
       "      <th>name</th>\n",
       "      <th>main_category</th>\n",
       "      <th>sub_category</th>\n",
       "      <th>image</th>\n",
       "      <th>link</th>\n",
       "      <th>ratings</th>\n",
       "      <th>no_of_ratings</th>\n",
       "      <th>discount_price</th>\n",
       "      <th>actual_price</th>\n",
       "    </tr>\n",
       "  </thead>\n",
       "  <tbody>\n",
       "    <tr>\n",
       "      <th>0</th>\n",
       "      <td>Lloyd 1.5 Ton 3 Star Inverter Split Ac (5 In 1...</td>\n",
       "      <td>appliances</td>\n",
       "      <td>Air Conditioners</td>\n",
       "      <td>https://m.media-amazon.com/images/I/31UISB90sY...</td>\n",
       "      <td>https://www.amazon.in/Lloyd-Inverter-Convertib...</td>\n",
       "      <td>4.2</td>\n",
       "      <td>2,255</td>\n",
       "      <td>₹32,999</td>\n",
       "      <td>₹58,990</td>\n",
       "    </tr>\n",
       "    <tr>\n",
       "      <th>1</th>\n",
       "      <td>LG 1.5 Ton 5 Star AI DUAL Inverter Split AC (C...</td>\n",
       "      <td>appliances</td>\n",
       "      <td>Air Conditioners</td>\n",
       "      <td>https://m.media-amazon.com/images/I/51JFb7FctD...</td>\n",
       "      <td>https://www.amazon.in/LG-Convertible-Anti-Viru...</td>\n",
       "      <td>4.2</td>\n",
       "      <td>2,948</td>\n",
       "      <td>₹46,490</td>\n",
       "      <td>₹75,990</td>\n",
       "    </tr>\n",
       "    <tr>\n",
       "      <th>2</th>\n",
       "      <td>LG 1 Ton 4 Star Ai Dual Inverter Split Ac (Cop...</td>\n",
       "      <td>appliances</td>\n",
       "      <td>Air Conditioners</td>\n",
       "      <td>https://m.media-amazon.com/images/I/51JFb7FctD...</td>\n",
       "      <td>https://www.amazon.in/LG-Inverter-Convertible-...</td>\n",
       "      <td>4.2</td>\n",
       "      <td>1,206</td>\n",
       "      <td>₹34,490</td>\n",
       "      <td>₹61,990</td>\n",
       "    </tr>\n",
       "    <tr>\n",
       "      <th>3</th>\n",
       "      <td>LG 1.5 Ton 3 Star AI DUAL Inverter Split AC (C...</td>\n",
       "      <td>appliances</td>\n",
       "      <td>Air Conditioners</td>\n",
       "      <td>https://m.media-amazon.com/images/I/51JFb7FctD...</td>\n",
       "      <td>https://www.amazon.in/LG-Convertible-Anti-Viru...</td>\n",
       "      <td>4.0</td>\n",
       "      <td>69</td>\n",
       "      <td>₹37,990</td>\n",
       "      <td>₹68,990</td>\n",
       "    </tr>\n",
       "    <tr>\n",
       "      <th>4</th>\n",
       "      <td>Carrier 1.5 Ton 3 Star Inverter Split AC (Copp...</td>\n",
       "      <td>appliances</td>\n",
       "      <td>Air Conditioners</td>\n",
       "      <td>https://m.media-amazon.com/images/I/41lrtqXPiW...</td>\n",
       "      <td>https://www.amazon.in/Carrier-Inverter-Split-C...</td>\n",
       "      <td>4.1</td>\n",
       "      <td>630</td>\n",
       "      <td>₹34,490</td>\n",
       "      <td>₹67,790</td>\n",
       "    </tr>\n",
       "  </tbody>\n",
       "</table>\n",
       "</div>"
      ],
      "text/plain": [
       "                                                name main_category  \\\n",
       "0  Lloyd 1.5 Ton 3 Star Inverter Split Ac (5 In 1...    appliances   \n",
       "1  LG 1.5 Ton 5 Star AI DUAL Inverter Split AC (C...    appliances   \n",
       "2  LG 1 Ton 4 Star Ai Dual Inverter Split Ac (Cop...    appliances   \n",
       "3  LG 1.5 Ton 3 Star AI DUAL Inverter Split AC (C...    appliances   \n",
       "4  Carrier 1.5 Ton 3 Star Inverter Split AC (Copp...    appliances   \n",
       "\n",
       "       sub_category                                              image  \\\n",
       "0  Air Conditioners  https://m.media-amazon.com/images/I/31UISB90sY...   \n",
       "1  Air Conditioners  https://m.media-amazon.com/images/I/51JFb7FctD...   \n",
       "2  Air Conditioners  https://m.media-amazon.com/images/I/51JFb7FctD...   \n",
       "3  Air Conditioners  https://m.media-amazon.com/images/I/51JFb7FctD...   \n",
       "4  Air Conditioners  https://m.media-amazon.com/images/I/41lrtqXPiW...   \n",
       "\n",
       "                                                link ratings no_of_ratings  \\\n",
       "0  https://www.amazon.in/Lloyd-Inverter-Convertib...     4.2         2,255   \n",
       "1  https://www.amazon.in/LG-Convertible-Anti-Viru...     4.2         2,948   \n",
       "2  https://www.amazon.in/LG-Inverter-Convertible-...     4.2         1,206   \n",
       "3  https://www.amazon.in/LG-Convertible-Anti-Viru...     4.0            69   \n",
       "4  https://www.amazon.in/Carrier-Inverter-Split-C...     4.1           630   \n",
       "\n",
       "  discount_price actual_price  \n",
       "0        ₹32,999      ₹58,990  \n",
       "1        ₹46,490      ₹75,990  \n",
       "2        ₹34,490      ₹61,990  \n",
       "3        ₹37,990      ₹68,990  \n",
       "4        ₹34,490      ₹67,790  "
      ]
     },
     "execution_count": 88,
     "metadata": {},
     "output_type": "execute_result"
    }
   ],
   "source": [
    "# Ingest Data\n",
    "file_list = os.listdir(PRODUCTS_PATH)\n",
    "\n",
    "# Extract Data Product\n",
    "df_product_original = extract_multi_csv(PRODUCTS_PATH)\n",
    "\n",
    "# Membuat Staging Area\n",
    "df_products = df_product_original.copy()\n",
    "df_products.drop(columns='Unnamed: 0', inplace=True)\n",
    "\n",
    "# Preview Data\n",
    "df_products.head()\n"
   ]
  },
  {
   "cell_type": "markdown",
   "id": "52b85ea3",
   "metadata": {},
   "source": [
    "### **Data Overview**"
   ]
  },
  {
   "cell_type": "code",
   "execution_count": 89,
   "id": "876abada",
   "metadata": {},
   "outputs": [
    {
     "data": {
      "text/plain": [
       "Index(['name', 'main_category', 'sub_category', 'image', 'link', 'ratings',\n",
       "       'no_of_ratings', 'discount_price', 'actual_price'],\n",
       "      dtype='object')"
      ]
     },
     "execution_count": 89,
     "metadata": {},
     "output_type": "execute_result"
    }
   ],
   "source": [
    "# Menampilkan nama kolom di Dataset 'df_product'\n",
    "df_products.columns"
   ]
  },
  {
   "cell_type": "code",
   "execution_count": 90,
   "id": "44934b93",
   "metadata": {},
   "outputs": [
    {
     "name": "stdout",
     "output_type": "stream",
     "text": [
      "<class 'pandas.core.frame.DataFrame'>\n",
      "RangeIndex: 1103170 entries, 0 to 1103169\n",
      "Data columns (total 9 columns):\n",
      " #   Column          Non-Null Count    Dtype \n",
      "---  ------          --------------    ----- \n",
      " 0   name            1103170 non-null  object\n",
      " 1   main_category   1103170 non-null  object\n",
      " 2   sub_category    1103170 non-null  object\n",
      " 3   image           1103170 non-null  object\n",
      " 4   link            1103170 non-null  object\n",
      " 5   ratings         751582 non-null   object\n",
      " 6   no_of_ratings   751582 non-null   object\n",
      " 7   discount_price  980844 non-null   object\n",
      " 8   actual_price    1067544 non-null  object\n",
      "dtypes: object(9)\n",
      "memory usage: 75.7+ MB\n"
     ]
    }
   ],
   "source": [
    "# Menampilkan ringkasan informasi Dataset 'df_product'\n",
    "df_products.info()"
   ]
  },
  {
   "cell_type": "code",
   "execution_count": 91,
   "id": "cf9ada60",
   "metadata": {},
   "outputs": [
    {
     "data": {
      "text/plain": [
       "name                   0\n",
       "main_category          0\n",
       "sub_category           0\n",
       "image                  0\n",
       "link                   0\n",
       "ratings           351588\n",
       "no_of_ratings     351588\n",
       "discount_price    122326\n",
       "actual_price       35626\n",
       "dtype: int64"
      ]
     },
     "execution_count": 91,
     "metadata": {},
     "output_type": "execute_result"
    }
   ],
   "source": [
    "# Mengecek Missing values per kolom\n",
    "df_products.isnull().sum()"
   ]
  },
  {
   "cell_type": "code",
   "execution_count": 92,
   "id": "b42c660a",
   "metadata": {},
   "outputs": [
    {
     "data": {
      "text/html": [
       "<div>\n",
       "<style scoped>\n",
       "    .dataframe tbody tr th:only-of-type {\n",
       "        vertical-align: middle;\n",
       "    }\n",
       "\n",
       "    .dataframe tbody tr th {\n",
       "        vertical-align: top;\n",
       "    }\n",
       "\n",
       "    .dataframe thead th {\n",
       "        text-align: right;\n",
       "    }\n",
       "</style>\n",
       "<table border=\"1\" class=\"dataframe\">\n",
       "  <thead>\n",
       "    <tr style=\"text-align: right;\">\n",
       "      <th></th>\n",
       "      <th>name</th>\n",
       "      <th>main_category</th>\n",
       "      <th>sub_category</th>\n",
       "      <th>image</th>\n",
       "      <th>link</th>\n",
       "      <th>ratings</th>\n",
       "      <th>no_of_ratings</th>\n",
       "      <th>discount_price</th>\n",
       "      <th>actual_price</th>\n",
       "    </tr>\n",
       "  </thead>\n",
       "  <tbody>\n",
       "    <tr>\n",
       "      <th>0</th>\n",
       "      <td>Lloyd 1.5 Ton 3 Star Inverter Split Ac (5 In 1...</td>\n",
       "      <td>appliances</td>\n",
       "      <td>Air Conditioners</td>\n",
       "      <td>https://m.media-amazon.com/images/I/31UISB90sY...</td>\n",
       "      <td>https://www.amazon.in/Lloyd-Inverter-Convertib...</td>\n",
       "      <td>4.2</td>\n",
       "      <td>2,255</td>\n",
       "      <td>₹32,999</td>\n",
       "      <td>₹58,990</td>\n",
       "    </tr>\n",
       "    <tr>\n",
       "      <th>1</th>\n",
       "      <td>LG 1.5 Ton 5 Star AI DUAL Inverter Split AC (C...</td>\n",
       "      <td>appliances</td>\n",
       "      <td>Air Conditioners</td>\n",
       "      <td>https://m.media-amazon.com/images/I/51JFb7FctD...</td>\n",
       "      <td>https://www.amazon.in/LG-Convertible-Anti-Viru...</td>\n",
       "      <td>4.2</td>\n",
       "      <td>2,948</td>\n",
       "      <td>₹46,490</td>\n",
       "      <td>₹75,990</td>\n",
       "    </tr>\n",
       "    <tr>\n",
       "      <th>2</th>\n",
       "      <td>LG 1 Ton 4 Star Ai Dual Inverter Split Ac (Cop...</td>\n",
       "      <td>appliances</td>\n",
       "      <td>Air Conditioners</td>\n",
       "      <td>https://m.media-amazon.com/images/I/51JFb7FctD...</td>\n",
       "      <td>https://www.amazon.in/LG-Inverter-Convertible-...</td>\n",
       "      <td>4.2</td>\n",
       "      <td>1,206</td>\n",
       "      <td>₹34,490</td>\n",
       "      <td>₹61,990</td>\n",
       "    </tr>\n",
       "    <tr>\n",
       "      <th>3</th>\n",
       "      <td>LG 1.5 Ton 3 Star AI DUAL Inverter Split AC (C...</td>\n",
       "      <td>appliances</td>\n",
       "      <td>Air Conditioners</td>\n",
       "      <td>https://m.media-amazon.com/images/I/51JFb7FctD...</td>\n",
       "      <td>https://www.amazon.in/LG-Convertible-Anti-Viru...</td>\n",
       "      <td>4.0</td>\n",
       "      <td>69</td>\n",
       "      <td>₹37,990</td>\n",
       "      <td>₹68,990</td>\n",
       "    </tr>\n",
       "    <tr>\n",
       "      <th>4</th>\n",
       "      <td>Carrier 1.5 Ton 3 Star Inverter Split AC (Copp...</td>\n",
       "      <td>appliances</td>\n",
       "      <td>Air Conditioners</td>\n",
       "      <td>https://m.media-amazon.com/images/I/41lrtqXPiW...</td>\n",
       "      <td>https://www.amazon.in/Carrier-Inverter-Split-C...</td>\n",
       "      <td>4.1</td>\n",
       "      <td>630</td>\n",
       "      <td>₹34,490</td>\n",
       "      <td>₹67,790</td>\n",
       "    </tr>\n",
       "    <tr>\n",
       "      <th>5</th>\n",
       "      <td>Voltas 1.4 Ton 3 Star Inverter Split AC(Copper...</td>\n",
       "      <td>appliances</td>\n",
       "      <td>Air Conditioners</td>\n",
       "      <td>https://m.media-amazon.com/images/I/41TuyxwZ9m...</td>\n",
       "      <td>https://www.amazon.in/Voltas-Adjustable-173V-V...</td>\n",
       "      <td>4.0</td>\n",
       "      <td>1,666</td>\n",
       "      <td>₹31,990</td>\n",
       "      <td>₹70,990</td>\n",
       "    </tr>\n",
       "    <tr>\n",
       "      <th>6</th>\n",
       "      <td>Lloyd 1.0 Ton 3 Star Inverter Split Ac (5 In 1...</td>\n",
       "      <td>appliances</td>\n",
       "      <td>Air Conditioners</td>\n",
       "      <td>https://m.media-amazon.com/images/I/31IXlxIPsO...</td>\n",
       "      <td>https://www.amazon.in/Lloyd-Inverter-Convertib...</td>\n",
       "      <td>4.2</td>\n",
       "      <td>1,097</td>\n",
       "      <td>₹29,999</td>\n",
       "      <td>₹49,990</td>\n",
       "    </tr>\n",
       "    <tr>\n",
       "      <th>7</th>\n",
       "      <td>Lloyd 1.5 Ton 5 Star Inverter Split Ac (5 In 1...</td>\n",
       "      <td>appliances</td>\n",
       "      <td>Air Conditioners</td>\n",
       "      <td>https://m.media-amazon.com/images/I/31IXlxIPsO...</td>\n",
       "      <td>https://www.amazon.in/Lloyd-Inverter-Convertib...</td>\n",
       "      <td>4.3</td>\n",
       "      <td>1,494</td>\n",
       "      <td>₹39,990</td>\n",
       "      <td>₹67,990</td>\n",
       "    </tr>\n",
       "    <tr>\n",
       "      <th>8</th>\n",
       "      <td>Carrier 1 Ton 3 Star AI Flexicool Inverter Spl...</td>\n",
       "      <td>appliances</td>\n",
       "      <td>Air Conditioners</td>\n",
       "      <td>https://m.media-amazon.com/images/I/51sTXvsanQ...</td>\n",
       "      <td>https://www.amazon.in/Carrier-Flexicool-Invert...</td>\n",
       "      <td>4.1</td>\n",
       "      <td>674</td>\n",
       "      <td>₹30,990</td>\n",
       "      <td>₹58,190</td>\n",
       "    </tr>\n",
       "    <tr>\n",
       "      <th>9</th>\n",
       "      <td>Voltas 1.5 Ton, 5 Star, Inverter Split AC(Copp...</td>\n",
       "      <td>appliances</td>\n",
       "      <td>Air Conditioners</td>\n",
       "      <td>https://m.media-amazon.com/images/I/51WQ3nWF0v...</td>\n",
       "      <td>https://www.amazon.in/Voltas-Inverter-Split-Co...</td>\n",
       "      <td>4.0</td>\n",
       "      <td>801</td>\n",
       "      <td>₹37,999</td>\n",
       "      <td>₹73,990</td>\n",
       "    </tr>\n",
       "  </tbody>\n",
       "</table>\n",
       "</div>"
      ],
      "text/plain": [
       "                                                name main_category  \\\n",
       "0  Lloyd 1.5 Ton 3 Star Inverter Split Ac (5 In 1...    appliances   \n",
       "1  LG 1.5 Ton 5 Star AI DUAL Inverter Split AC (C...    appliances   \n",
       "2  LG 1 Ton 4 Star Ai Dual Inverter Split Ac (Cop...    appliances   \n",
       "3  LG 1.5 Ton 3 Star AI DUAL Inverter Split AC (C...    appliances   \n",
       "4  Carrier 1.5 Ton 3 Star Inverter Split AC (Copp...    appliances   \n",
       "5  Voltas 1.4 Ton 3 Star Inverter Split AC(Copper...    appliances   \n",
       "6  Lloyd 1.0 Ton 3 Star Inverter Split Ac (5 In 1...    appliances   \n",
       "7  Lloyd 1.5 Ton 5 Star Inverter Split Ac (5 In 1...    appliances   \n",
       "8  Carrier 1 Ton 3 Star AI Flexicool Inverter Spl...    appliances   \n",
       "9  Voltas 1.5 Ton, 5 Star, Inverter Split AC(Copp...    appliances   \n",
       "\n",
       "       sub_category                                              image  \\\n",
       "0  Air Conditioners  https://m.media-amazon.com/images/I/31UISB90sY...   \n",
       "1  Air Conditioners  https://m.media-amazon.com/images/I/51JFb7FctD...   \n",
       "2  Air Conditioners  https://m.media-amazon.com/images/I/51JFb7FctD...   \n",
       "3  Air Conditioners  https://m.media-amazon.com/images/I/51JFb7FctD...   \n",
       "4  Air Conditioners  https://m.media-amazon.com/images/I/41lrtqXPiW...   \n",
       "5  Air Conditioners  https://m.media-amazon.com/images/I/41TuyxwZ9m...   \n",
       "6  Air Conditioners  https://m.media-amazon.com/images/I/31IXlxIPsO...   \n",
       "7  Air Conditioners  https://m.media-amazon.com/images/I/31IXlxIPsO...   \n",
       "8  Air Conditioners  https://m.media-amazon.com/images/I/51sTXvsanQ...   \n",
       "9  Air Conditioners  https://m.media-amazon.com/images/I/51WQ3nWF0v...   \n",
       "\n",
       "                                                link ratings no_of_ratings  \\\n",
       "0  https://www.amazon.in/Lloyd-Inverter-Convertib...     4.2         2,255   \n",
       "1  https://www.amazon.in/LG-Convertible-Anti-Viru...     4.2         2,948   \n",
       "2  https://www.amazon.in/LG-Inverter-Convertible-...     4.2         1,206   \n",
       "3  https://www.amazon.in/LG-Convertible-Anti-Viru...     4.0            69   \n",
       "4  https://www.amazon.in/Carrier-Inverter-Split-C...     4.1           630   \n",
       "5  https://www.amazon.in/Voltas-Adjustable-173V-V...     4.0         1,666   \n",
       "6  https://www.amazon.in/Lloyd-Inverter-Convertib...     4.2         1,097   \n",
       "7  https://www.amazon.in/Lloyd-Inverter-Convertib...     4.3         1,494   \n",
       "8  https://www.amazon.in/Carrier-Flexicool-Invert...     4.1           674   \n",
       "9  https://www.amazon.in/Voltas-Inverter-Split-Co...     4.0           801   \n",
       "\n",
       "  discount_price actual_price  \n",
       "0        ₹32,999      ₹58,990  \n",
       "1        ₹46,490      ₹75,990  \n",
       "2        ₹34,490      ₹61,990  \n",
       "3        ₹37,990      ₹68,990  \n",
       "4        ₹34,490      ₹67,790  \n",
       "5        ₹31,990      ₹70,990  \n",
       "6        ₹29,999      ₹49,990  \n",
       "7        ₹39,990      ₹67,990  \n",
       "8        ₹30,990      ₹58,190  \n",
       "9        ₹37,999      ₹73,990  "
      ]
     },
     "execution_count": 92,
     "metadata": {},
     "output_type": "execute_result"
    }
   ],
   "source": [
    "# Preview 10 data baris awal\n",
    "df_products.head(10)"
   ]
  },
  {
   "cell_type": "code",
   "execution_count": 93,
   "id": "21fd2c44",
   "metadata": {},
   "outputs": [
    {
     "data": {
      "text/html": [
       "<div>\n",
       "<style scoped>\n",
       "    .dataframe tbody tr th:only-of-type {\n",
       "        vertical-align: middle;\n",
       "    }\n",
       "\n",
       "    .dataframe tbody tr th {\n",
       "        vertical-align: top;\n",
       "    }\n",
       "\n",
       "    .dataframe thead th {\n",
       "        text-align: right;\n",
       "    }\n",
       "</style>\n",
       "<table border=\"1\" class=\"dataframe\">\n",
       "  <thead>\n",
       "    <tr style=\"text-align: right;\">\n",
       "      <th></th>\n",
       "      <th>name</th>\n",
       "      <th>main_category</th>\n",
       "      <th>sub_category</th>\n",
       "      <th>image</th>\n",
       "      <th>link</th>\n",
       "      <th>ratings</th>\n",
       "      <th>no_of_ratings</th>\n",
       "      <th>discount_price</th>\n",
       "      <th>actual_price</th>\n",
       "    </tr>\n",
       "  </thead>\n",
       "  <tbody>\n",
       "    <tr>\n",
       "      <th>1103160</th>\n",
       "      <td>Just Rider Compression Clothing (XXL, Black)</td>\n",
       "      <td>sports &amp; fitness</td>\n",
       "      <td>Yoga</td>\n",
       "      <td>https://m.media-amazon.com/images/I/51-Vbeesll...</td>\n",
       "      <td>https://www.amazon.in/Just-Rider-Compression-C...</td>\n",
       "      <td>3.0</td>\n",
       "      <td>2</td>\n",
       "      <td>₹228</td>\n",
       "      <td>₹799</td>\n",
       "    </tr>\n",
       "    <tr>\n",
       "      <th>1103161</th>\n",
       "      <td>PANCHTATAVA Yoga Mat Cover with Adjustable Sho...</td>\n",
       "      <td>sports &amp; fitness</td>\n",
       "      <td>Yoga</td>\n",
       "      <td>https://m.media-amazon.com/images/I/61BZWeiaGQ...</td>\n",
       "      <td>https://www.amazon.in/PANCHTATAVA-Cover-Adjust...</td>\n",
       "      <td>4.5</td>\n",
       "      <td>2</td>\n",
       "      <td>₹245</td>\n",
       "      <td>₹1,499</td>\n",
       "    </tr>\n",
       "    <tr>\n",
       "      <th>1103162</th>\n",
       "      <td>Obsessions Reversible Printed Yoga Mat,Anti-Sl...</td>\n",
       "      <td>sports &amp; fitness</td>\n",
       "      <td>Yoga</td>\n",
       "      <td>https://m.media-amazon.com/images/I/71F9HFeoIQ...</td>\n",
       "      <td>https://www.amazon.in/Obsessions-Printed-Yoga-...</td>\n",
       "      <td>NaN</td>\n",
       "      <td>NaN</td>\n",
       "      <td>₹1,320</td>\n",
       "      <td>₹1,650</td>\n",
       "    </tr>\n",
       "    <tr>\n",
       "      <th>1103163</th>\n",
       "      <td>Puma Women Sweatshirt</td>\n",
       "      <td>sports &amp; fitness</td>\n",
       "      <td>Yoga</td>\n",
       "      <td>https://m.media-amazon.com/images/I/51An1bABW1...</td>\n",
       "      <td>https://www.amazon.in/Puma-Womens-Sweatshirt-5...</td>\n",
       "      <td>NaN</td>\n",
       "      <td>NaN</td>\n",
       "      <td>₹1,439</td>\n",
       "      <td>₹2,999</td>\n",
       "    </tr>\n",
       "    <tr>\n",
       "      <th>1103164</th>\n",
       "      <td>BE SAVAGE Pink I Purple You Hoodie Suitable fo...</td>\n",
       "      <td>sports &amp; fitness</td>\n",
       "      <td>Yoga</td>\n",
       "      <td>https://m.media-amazon.com/images/I/61voQ68VuT...</td>\n",
       "      <td>https://www.amazon.in/Be-savage-Purple-Hoodie-...</td>\n",
       "      <td>4.6</td>\n",
       "      <td>6</td>\n",
       "      <td>₹711</td>\n",
       "      <td>₹999</td>\n",
       "    </tr>\n",
       "    <tr>\n",
       "      <th>1103165</th>\n",
       "      <td>Adidas Regular Fit Men's Track Tops</td>\n",
       "      <td>sports &amp; fitness</td>\n",
       "      <td>Yoga</td>\n",
       "      <td>https://m.media-amazon.com/images/I/71tHAR9pIY...</td>\n",
       "      <td>https://www.amazon.in/Adidas-Regular-Mens-Trac...</td>\n",
       "      <td>3.2</td>\n",
       "      <td>9</td>\n",
       "      <td>₹3,449</td>\n",
       "      <td>₹4,599</td>\n",
       "    </tr>\n",
       "    <tr>\n",
       "      <th>1103166</th>\n",
       "      <td>Redwolf Noice Toit Smort - Hoodie (Black)</td>\n",
       "      <td>sports &amp; fitness</td>\n",
       "      <td>Yoga</td>\n",
       "      <td>https://m.media-amazon.com/images/I/41pKrMZ5lQ...</td>\n",
       "      <td>https://www.amazon.in/Redwolf-Noice-Smort-Cott...</td>\n",
       "      <td>2.0</td>\n",
       "      <td>2</td>\n",
       "      <td>₹1,199</td>\n",
       "      <td>₹1,999</td>\n",
       "    </tr>\n",
       "    <tr>\n",
       "      <th>1103167</th>\n",
       "      <td>Redwolf Schrute Farms B&amp;B - Hoodie (Navy Blue)</td>\n",
       "      <td>sports &amp; fitness</td>\n",
       "      <td>Yoga</td>\n",
       "      <td>https://m.media-amazon.com/images/I/41n9u+zNSc...</td>\n",
       "      <td>https://www.amazon.in/Redwolf-Schrute-Farms-Ho...</td>\n",
       "      <td>4.0</td>\n",
       "      <td>1</td>\n",
       "      <td>₹1,199</td>\n",
       "      <td>₹1,999</td>\n",
       "    </tr>\n",
       "    <tr>\n",
       "      <th>1103168</th>\n",
       "      <td>Puma Men Shorts</td>\n",
       "      <td>sports &amp; fitness</td>\n",
       "      <td>Yoga</td>\n",
       "      <td>https://m.media-amazon.com/images/I/51LoWv5JDt...</td>\n",
       "      <td>https://www.amazon.in/Puma-Woven-Short-5208526...</td>\n",
       "      <td>4.4</td>\n",
       "      <td>37</td>\n",
       "      <td>NaN</td>\n",
       "      <td>NaN</td>\n",
       "    </tr>\n",
       "    <tr>\n",
       "      <th>1103169</th>\n",
       "      <td>Mothercare Printed Cotton Elastane Girls Infan...</td>\n",
       "      <td>sports &amp; fitness</td>\n",
       "      <td>Yoga</td>\n",
       "      <td>https://m.media-amazon.com/images/I/814X-sI3DB...</td>\n",
       "      <td>https://www.amazon.in/Mothercare-Carrot-Regula...</td>\n",
       "      <td>4.6</td>\n",
       "      <td>5</td>\n",
       "      <td>₹1,039</td>\n",
       "      <td>₹1,299</td>\n",
       "    </tr>\n",
       "  </tbody>\n",
       "</table>\n",
       "</div>"
      ],
      "text/plain": [
       "                                                      name     main_category  \\\n",
       "1103160       Just Rider Compression Clothing (XXL, Black)  sports & fitness   \n",
       "1103161  PANCHTATAVA Yoga Mat Cover with Adjustable Sho...  sports & fitness   \n",
       "1103162  Obsessions Reversible Printed Yoga Mat,Anti-Sl...  sports & fitness   \n",
       "1103163                              Puma Women Sweatshirt  sports & fitness   \n",
       "1103164  BE SAVAGE Pink I Purple You Hoodie Suitable fo...  sports & fitness   \n",
       "1103165                Adidas Regular Fit Men's Track Tops  sports & fitness   \n",
       "1103166          Redwolf Noice Toit Smort - Hoodie (Black)  sports & fitness   \n",
       "1103167     Redwolf Schrute Farms B&B - Hoodie (Navy Blue)  sports & fitness   \n",
       "1103168                                    Puma Men Shorts  sports & fitness   \n",
       "1103169  Mothercare Printed Cotton Elastane Girls Infan...  sports & fitness   \n",
       "\n",
       "        sub_category                                              image  \\\n",
       "1103160         Yoga  https://m.media-amazon.com/images/I/51-Vbeesll...   \n",
       "1103161         Yoga  https://m.media-amazon.com/images/I/61BZWeiaGQ...   \n",
       "1103162         Yoga  https://m.media-amazon.com/images/I/71F9HFeoIQ...   \n",
       "1103163         Yoga  https://m.media-amazon.com/images/I/51An1bABW1...   \n",
       "1103164         Yoga  https://m.media-amazon.com/images/I/61voQ68VuT...   \n",
       "1103165         Yoga  https://m.media-amazon.com/images/I/71tHAR9pIY...   \n",
       "1103166         Yoga  https://m.media-amazon.com/images/I/41pKrMZ5lQ...   \n",
       "1103167         Yoga  https://m.media-amazon.com/images/I/41n9u+zNSc...   \n",
       "1103168         Yoga  https://m.media-amazon.com/images/I/51LoWv5JDt...   \n",
       "1103169         Yoga  https://m.media-amazon.com/images/I/814X-sI3DB...   \n",
       "\n",
       "                                                      link ratings  \\\n",
       "1103160  https://www.amazon.in/Just-Rider-Compression-C...     3.0   \n",
       "1103161  https://www.amazon.in/PANCHTATAVA-Cover-Adjust...     4.5   \n",
       "1103162  https://www.amazon.in/Obsessions-Printed-Yoga-...     NaN   \n",
       "1103163  https://www.amazon.in/Puma-Womens-Sweatshirt-5...     NaN   \n",
       "1103164  https://www.amazon.in/Be-savage-Purple-Hoodie-...     4.6   \n",
       "1103165  https://www.amazon.in/Adidas-Regular-Mens-Trac...     3.2   \n",
       "1103166  https://www.amazon.in/Redwolf-Noice-Smort-Cott...     2.0   \n",
       "1103167  https://www.amazon.in/Redwolf-Schrute-Farms-Ho...     4.0   \n",
       "1103168  https://www.amazon.in/Puma-Woven-Short-5208526...     4.4   \n",
       "1103169  https://www.amazon.in/Mothercare-Carrot-Regula...     4.6   \n",
       "\n",
       "        no_of_ratings discount_price actual_price  \n",
       "1103160             2           ₹228         ₹799  \n",
       "1103161             2           ₹245       ₹1,499  \n",
       "1103162           NaN         ₹1,320       ₹1,650  \n",
       "1103163           NaN         ₹1,439       ₹2,999  \n",
       "1103164             6           ₹711         ₹999  \n",
       "1103165             9         ₹3,449       ₹4,599  \n",
       "1103166             2         ₹1,199       ₹1,999  \n",
       "1103167             1         ₹1,199       ₹1,999  \n",
       "1103168            37            NaN          NaN  \n",
       "1103169             5         ₹1,039       ₹1,299  "
      ]
     },
     "execution_count": 93,
     "metadata": {},
     "output_type": "execute_result"
    }
   ],
   "source": [
    "# Preview 10 data baris akhir\n",
    "df_products.tail(10)"
   ]
  },
  {
   "cell_type": "markdown",
   "id": "fa1ad5e5",
   "metadata": {},
   "source": [
    "### **Data Cleaning & Handling Missing**\n",
    "\n",
    "\n",
    "Tahap ini dilakukan untuk memastikan kualitas data sebelum analisis. Proses meliputi pembersihan nilai tidak valid, penanganan data yang hilang, serta standarisasi format agar lebih konsisten. Dengan data yang bersih, hasil analisis akan lebih akurat dan dapat diandalkan.\n"
   ]
  },
  {
   "cell_type": "code",
   "execution_count": 94,
   "id": "e80892f7",
   "metadata": {},
   "outputs": [
    {
     "data": {
      "text/plain": [
       "array(['4.2', '4.0', '4.1', '4.3', '3.9', '3.8', '3.5', nan, '4.6', '3.3',\n",
       "       '3.4', '3.7', '2.9', '5.0', '4.4', '3.6', '2.7', '4.5', '3.0',\n",
       "       '3.1', '3.2', '4.8', '4.7', '2.5', '1.0', '2.6', '2.8', '2.3',\n",
       "       '1.7', 'Get', '1.8', '2.4', '4.9', '2.2', '1.6', '1.9', '2.0',\n",
       "       '1.4', '2.1', 'FREE', '1.2', '1.3', '1.5', '₹68.99', '₹65', '1.1',\n",
       "       '₹70', '₹100', '₹99', '₹2.99', 4.0, 3.7, 3.4, 4.1, 3.8, 3.6, 4.2,\n",
       "       3.9, 3.2, 3.5, 5.0, 3.3, 2.6, 4.5, 4.3, 4.7, 3.0, 3.1, 4.4, 4.6,\n",
       "       1.0, 4.9, 2.9, 2.7, 2.2, 2.5, 4.8, 2.0, 1.7, 1.9, 2.8, 2.4, 1.6,\n",
       "       2.3, 1.8, 1.4, 1.3, 2.1, 1.5], dtype=object)"
      ]
     },
     "execution_count": 94,
     "metadata": {},
     "output_type": "execute_result"
    }
   ],
   "source": [
    "# Identifikasi nilai unik pada kolom 'ratings'\n",
    "df_products['ratings'].unique()"
   ]
  },
  {
   "cell_type": "markdown",
   "id": "363a4ed0",
   "metadata": {},
   "source": [
    "Kolom **`ratings`** masih berisi data yang tidak seragam, seperti teks non-numerik (\"FREE\", \"Get\") dan nilai berbentuk mata uang (\"₹68.99\", \"₹100\"), serta campuran tipe string dan float. Agar dapat dianalisis, kolom ini perlu dibersihkan dengan menghapus nilai tidak valid, membatasi hanya angka dalam rentang 1.0–5.0, lalu mengubahnya ke format numerik `float`."
   ]
  },
  {
   "cell_type": "code",
   "execution_count": 95,
   "id": "6c2b3e05",
   "metadata": {},
   "outputs": [],
   "source": [
    "# Konversi 'ratings' dari object ke numeric (float), nilai non-valid diubah jadi NaN\n",
    "df_products['ratings'] = pd.to_numeric(df_products['ratings'], errors='coerce').astype(float)"
   ]
  },
  {
   "cell_type": "code",
   "execution_count": 96,
   "id": "d2f24fe1",
   "metadata": {},
   "outputs": [
    {
     "data": {
      "text/plain": [
       "array([4.2, 4. , 4.1, 4.3, 3.9, 3.8, 3.5, nan, 4.6, 3.3, 3.4, 3.7, 2.9,\n",
       "       5. , 4.4, 3.6, 2.7, 4.5, 3. , 3.1, 3.2, 4.8, 4.7, 2.5, 1. , 2.6,\n",
       "       2.8, 2.3, 1.7, 1.8, 2.4, 4.9, 2.2, 1.6, 1.9, 2. , 1.4, 2.1, 1.2,\n",
       "       1.3, 1.5, 1.1])"
      ]
     },
     "execution_count": 96,
     "metadata": {},
     "output_type": "execute_result"
    }
   ],
   "source": [
    "# Validasi hasil konversi\n",
    "df_products['ratings'].unique()"
   ]
  },
  {
   "cell_type": "markdown",
   "id": "0ba4497e",
   "metadata": {},
   "source": [
    "sama halnya dengan kolom 'no_of_ratings' perlu di format dari 'object' menjadi 'numeric'"
   ]
  },
  {
   "cell_type": "code",
   "execution_count": 97,
   "id": "efd4df7a",
   "metadata": {},
   "outputs": [],
   "source": [
    "# Konversi 'no_of_ratings' ke numeric dengan menghapus koma, isi NaN dengan 0, lalu ubah ke tipe Int64\n",
    "df_products['no_of_ratings'] = pd.to_numeric(df_products['no_of_ratings'].str.replace(\",\", \"\"),errors='coerce')\n",
    "df_products['no_of_ratings'] = df_products['no_of_ratings'].fillna(0)\n",
    "df_products['no_of_ratings'] = df_products['no_of_ratings'].astype('Int64')"
   ]
  },
  {
   "cell_type": "code",
   "execution_count": 98,
   "id": "4ed84aac",
   "metadata": {},
   "outputs": [
    {
     "name": "stdout",
     "output_type": "stream",
     "text": [
      "actual_price : ['₹58,990' '₹75,990' '₹61,990' ... '₹608.97' '₹4,792' '₹8,023.60']\n",
      "discount_price : ['₹32,999' '₹46,490' '₹34,490' ... '₹3,712.10' '₹1,429.60' '₹651.01']\n"
     ]
    }
   ],
   "source": [
    "# Preview kolom sebelum transformasi\n",
    "print(\"actual_price :\", df_products['actual_price'].unique())\n",
    "print(\"discount_price :\", df_products['discount_price'].unique())"
   ]
  },
  {
   "cell_type": "markdown",
   "id": "fee9cdfb",
   "metadata": {},
   "source": [
    "Dataset memiliki dua kolom utama terkait harga:  \n",
    "\n",
    "- **`discount_price`** → harga produk setelah diskon, masih dalam format string dengan simbol mata uang (`₹`) dan tanda pemisah ribuan (`,`).  \n",
    "- **`actual_price`** → harga asli produk sebelum diskon, juga masih berupa string dengan simbol mata uang dan pemisah ribuan.  \n",
    "\n",
    "Agar dapat dianalisis lebih lanjut, diperlukan beberapa langkah pembersihan data:  \n",
    "\n",
    "1. Membuat kolom baru bernama **`currency`** untuk menyimpan simbol mata uang `₹`.  \n",
    "2. Menghapus simbol mata uang dan tanda pemisah ribuan dari kolom harga.  \n",
    "3. Mengonversi nilai harga ke tipe numerik (`float64`).  \n",
    "\n",
    "Dengan cara ini, informasi harga tetap terjaga dan analisis lintas mata uang dapat dilakukan dengan lebih fleksibel.  "
   ]
  },
  {
   "cell_type": "markdown",
   "id": "a8855ebf",
   "metadata": {},
   "source": [
    "Kolom discount_price masih berisi nilai harga dalam format string yang disertai simbol mata uang (₹) serta tanda pemisah ribuan (,). Kondisi ini membuat kolom belum bisa diolah sebagai data numerik. Agar dapat dianalisis, langkah yang perlu dilakukan adalah membersihkan data dengan cara menghapus simbol mata uang dan tanda pemisah, lalu mengonversinya ke tipe numerik (float64). Dengan begitu, nilai harga dapat digunakan untuk perhitungan statistik maupun analisis perbandingan harga."
   ]
  },
  {
   "cell_type": "code",
   "execution_count": null,
   "id": "a2595ed9",
   "metadata": {},
   "outputs": [],
   "source": [
    "# Bersihkan kolom harga: hapus simbol mata uang/karakter, lalu ubah ke numeric\n",
    "# Discount_Price\n",
    "df_products['discount_price'] = pd.to_numeric(df_products['discount_price'].str.replace(r'[₹,]','', regex=True),errors='coerce')\n",
    "\n",
    "# Actual Price\n",
    "df_products['currency']= df_products['actual_price'].str[:1] # membuat kolom baru currency \"₹\"\n",
    "df_products['actual_price'] = df_products['actual_price'].str.replace(r'[₹,]','', regex=True).astype(float)"
   ]
  },
  {
   "cell_type": "markdown",
   "id": "4e8ac021",
   "metadata": {},
   "source": [
    "Setelah dianalisis, ternyata memang beberapa row memiliki harga 0, kita akan mengubahnya untuk menjadi NaN."
   ]
  },
  {
   "cell_type": "code",
   "execution_count": null,
   "id": "cdd3518c",
   "metadata": {},
   "outputs": [],
   "source": [
    "\n",
    "# Ganti nilai 0 pada 'actual_price' menjadi NaN untuk menandai data hilang\n",
    "df_products['actual_price'] = df_products['actual_price'].replace(0,np.nan)"
   ]
  },
  {
   "cell_type": "code",
   "execution_count": null,
   "id": "0a1f37dc",
   "metadata": {},
   "outputs": [],
   "source": [
    "# Buat kolom 'discount_percentage'\n",
    "df_products['discount_percentage'] = ((df_products['actual_price'] - df_products['discount_price']) / df_products['actual_price'] * 100).round(1)"
   ]
  },
  {
   "cell_type": "code",
   "execution_count": null,
   "id": "ffc444e4",
   "metadata": {},
   "outputs": [
    {
     "data": {
      "text/html": [
       "<div>\n",
       "<style scoped>\n",
       "    .dataframe tbody tr th:only-of-type {\n",
       "        vertical-align: middle;\n",
       "    }\n",
       "\n",
       "    .dataframe tbody tr th {\n",
       "        vertical-align: top;\n",
       "    }\n",
       "\n",
       "    .dataframe thead th {\n",
       "        text-align: right;\n",
       "    }\n",
       "</style>\n",
       "<table border=\"1\" class=\"dataframe\">\n",
       "  <thead>\n",
       "    <tr style=\"text-align: right;\">\n",
       "      <th></th>\n",
       "      <th>name</th>\n",
       "      <th>main_category</th>\n",
       "      <th>sub_category</th>\n",
       "      <th>image</th>\n",
       "      <th>link</th>\n",
       "      <th>ratings</th>\n",
       "      <th>no_of_ratings</th>\n",
       "      <th>discount_price</th>\n",
       "      <th>actual_price</th>\n",
       "      <th>currency</th>\n",
       "      <th>discount_percentage</th>\n",
       "    </tr>\n",
       "  </thead>\n",
       "  <tbody>\n",
       "    <tr>\n",
       "      <th>0</th>\n",
       "      <td>Lloyd 1.5 Ton 3 Star Inverter Split Ac (5 In 1...</td>\n",
       "      <td>appliances</td>\n",
       "      <td>Air Conditioners</td>\n",
       "      <td>https://m.media-amazon.com/images/I/31UISB90sY...</td>\n",
       "      <td>https://www.amazon.in/Lloyd-Inverter-Convertib...</td>\n",
       "      <td>4.2</td>\n",
       "      <td>2255</td>\n",
       "      <td>32999.0</td>\n",
       "      <td>58990.0</td>\n",
       "      <td>₹</td>\n",
       "      <td>44.1</td>\n",
       "    </tr>\n",
       "    <tr>\n",
       "      <th>1</th>\n",
       "      <td>LG 1.5 Ton 5 Star AI DUAL Inverter Split AC (C...</td>\n",
       "      <td>appliances</td>\n",
       "      <td>Air Conditioners</td>\n",
       "      <td>https://m.media-amazon.com/images/I/51JFb7FctD...</td>\n",
       "      <td>https://www.amazon.in/LG-Convertible-Anti-Viru...</td>\n",
       "      <td>4.2</td>\n",
       "      <td>2948</td>\n",
       "      <td>46490.0</td>\n",
       "      <td>75990.0</td>\n",
       "      <td>₹</td>\n",
       "      <td>38.8</td>\n",
       "    </tr>\n",
       "    <tr>\n",
       "      <th>2</th>\n",
       "      <td>LG 1 Ton 4 Star Ai Dual Inverter Split Ac (Cop...</td>\n",
       "      <td>appliances</td>\n",
       "      <td>Air Conditioners</td>\n",
       "      <td>https://m.media-amazon.com/images/I/51JFb7FctD...</td>\n",
       "      <td>https://www.amazon.in/LG-Inverter-Convertible-...</td>\n",
       "      <td>4.2</td>\n",
       "      <td>1206</td>\n",
       "      <td>34490.0</td>\n",
       "      <td>61990.0</td>\n",
       "      <td>₹</td>\n",
       "      <td>44.4</td>\n",
       "    </tr>\n",
       "    <tr>\n",
       "      <th>3</th>\n",
       "      <td>LG 1.5 Ton 3 Star AI DUAL Inverter Split AC (C...</td>\n",
       "      <td>appliances</td>\n",
       "      <td>Air Conditioners</td>\n",
       "      <td>https://m.media-amazon.com/images/I/51JFb7FctD...</td>\n",
       "      <td>https://www.amazon.in/LG-Convertible-Anti-Viru...</td>\n",
       "      <td>4.0</td>\n",
       "      <td>69</td>\n",
       "      <td>37990.0</td>\n",
       "      <td>68990.0</td>\n",
       "      <td>₹</td>\n",
       "      <td>44.9</td>\n",
       "    </tr>\n",
       "    <tr>\n",
       "      <th>4</th>\n",
       "      <td>Carrier 1.5 Ton 3 Star Inverter Split AC (Copp...</td>\n",
       "      <td>appliances</td>\n",
       "      <td>Air Conditioners</td>\n",
       "      <td>https://m.media-amazon.com/images/I/41lrtqXPiW...</td>\n",
       "      <td>https://www.amazon.in/Carrier-Inverter-Split-C...</td>\n",
       "      <td>4.1</td>\n",
       "      <td>630</td>\n",
       "      <td>34490.0</td>\n",
       "      <td>67790.0</td>\n",
       "      <td>₹</td>\n",
       "      <td>49.1</td>\n",
       "    </tr>\n",
       "  </tbody>\n",
       "</table>\n",
       "</div>"
      ],
      "text/plain": [
       "                                                name main_category  \\\n",
       "0  Lloyd 1.5 Ton 3 Star Inverter Split Ac (5 In 1...    appliances   \n",
       "1  LG 1.5 Ton 5 Star AI DUAL Inverter Split AC (C...    appliances   \n",
       "2  LG 1 Ton 4 Star Ai Dual Inverter Split Ac (Cop...    appliances   \n",
       "3  LG 1.5 Ton 3 Star AI DUAL Inverter Split AC (C...    appliances   \n",
       "4  Carrier 1.5 Ton 3 Star Inverter Split AC (Copp...    appliances   \n",
       "\n",
       "       sub_category                                              image  \\\n",
       "0  Air Conditioners  https://m.media-amazon.com/images/I/31UISB90sY...   \n",
       "1  Air Conditioners  https://m.media-amazon.com/images/I/51JFb7FctD...   \n",
       "2  Air Conditioners  https://m.media-amazon.com/images/I/51JFb7FctD...   \n",
       "3  Air Conditioners  https://m.media-amazon.com/images/I/51JFb7FctD...   \n",
       "4  Air Conditioners  https://m.media-amazon.com/images/I/41lrtqXPiW...   \n",
       "\n",
       "                                                link  ratings  no_of_ratings  \\\n",
       "0  https://www.amazon.in/Lloyd-Inverter-Convertib...      4.2           2255   \n",
       "1  https://www.amazon.in/LG-Convertible-Anti-Viru...      4.2           2948   \n",
       "2  https://www.amazon.in/LG-Inverter-Convertible-...      4.2           1206   \n",
       "3  https://www.amazon.in/LG-Convertible-Anti-Viru...      4.0             69   \n",
       "4  https://www.amazon.in/Carrier-Inverter-Split-C...      4.1            630   \n",
       "\n",
       "   discount_price  actual_price currency  discount_percentage  \n",
       "0         32999.0       58990.0        ₹                 44.1  \n",
       "1         46490.0       75990.0        ₹                 38.8  \n",
       "2         34490.0       61990.0        ₹                 44.4  \n",
       "3         37990.0       68990.0        ₹                 44.9  \n",
       "4         34490.0       67790.0        ₹                 49.1  "
      ]
     },
     "execution_count": 103,
     "metadata": {},
     "output_type": "execute_result"
    }
   ],
   "source": [
    "# Tampilkan preview hasil akhir setelah cleaning\n",
    "df_products.head()"
   ]
  },
  {
   "cell_type": "markdown",
   "id": "9b1d92c6",
   "metadata": {},
   "source": [
    "## **Product Data Demography**  "
   ]
  },
  {
   "cell_type": "markdown",
   "id": "5cdca00a",
   "metadata": {},
   "source": [
    "Pada bagian ini dilakukan pemetaan awal terhadap dataset produk untuk memahami\n",
    "**distribusi kategori, harga, diskon, dan rating**. Analisis ini memberikan gambaran\n",
    "umum tentang karakteristik data sebelum masuk ke tahap insight bisnis yang lebih dalam."
   ]
  },
  {
   "cell_type": "code",
   "execution_count": null,
   "id": "d449bc71",
   "metadata": {},
   "outputs": [
    {
     "data": {
      "text/plain": [
       "(1103170, 11)"
      ]
     },
     "execution_count": 104,
     "metadata": {},
     "output_type": "execute_result"
    }
   ],
   "source": [
    "# Preview jumlah baris dan kolom\n",
    "df_products.shape"
   ]
  },
  {
   "cell_type": "code",
   "execution_count": null,
   "id": "cce68d09",
   "metadata": {},
   "outputs": [
    {
     "data": {
      "text/plain": [
       "Index(['name', 'main_category', 'sub_category', 'image', 'link', 'ratings',\n",
       "       'no_of_ratings', 'discount_price', 'actual_price', 'currency',\n",
       "       'discount_percentage'],\n",
       "      dtype='object')"
      ]
     },
     "execution_count": 105,
     "metadata": {},
     "output_type": "execute_result"
    }
   ],
   "source": [
    "# Daftar kolom yang tersedia pada dataset\n",
    "df_products.columns"
   ]
  },
  {
   "cell_type": "code",
   "execution_count": null,
   "id": "a0993478",
   "metadata": {},
   "outputs": [
    {
     "name": "stdout",
     "output_type": "stream",
     "text": [
      "<class 'pandas.core.frame.DataFrame'>\n",
      "RangeIndex: 1103170 entries, 0 to 1103169\n",
      "Data columns (total 11 columns):\n",
      " #   Column               Non-Null Count    Dtype  \n",
      "---  ------               --------------    -----  \n",
      " 0   name                 1103170 non-null  object \n",
      " 1   main_category        1103170 non-null  object \n",
      " 2   sub_category         1103170 non-null  object \n",
      " 3   image                1103170 non-null  object \n",
      " 4   link                 1103170 non-null  object \n",
      " 5   ratings              739116 non-null   float64\n",
      " 6   no_of_ratings        1103170 non-null  Int64  \n",
      " 7   discount_price       980844 non-null   float64\n",
      " 8   actual_price         1067538 non-null  float64\n",
      " 9   currency             1067544 non-null  object \n",
      " 10  discount_percentage  980844 non-null   float64\n",
      "dtypes: Int64(1), float64(4), object(6)\n",
      "memory usage: 93.6+ MB\n"
     ]
    }
   ],
   "source": [
    "# Informasi overview dataset\n",
    "df_products.info()"
   ]
  },
  {
   "cell_type": "code",
   "execution_count": null,
   "id": "5e34562c",
   "metadata": {},
   "outputs": [
    {
     "data": {
      "text/plain": [
       "array(['appliances', 'car & motorbike', 'tv, audio & cameras',\n",
       "       'sports & fitness', 'grocery & gourmet foods', 'home & kitchen',\n",
       "       'pet supplies', 'stores', 'toys & baby products', \"kids' fashion\",\n",
       "       'bags & luggage', 'accessories', \"women's shoes\",\n",
       "       'beauty & health', \"men's shoes\", \"women's clothing\",\n",
       "       'industrial supplies', \"men's clothing\", 'music',\n",
       "       'home, kitchen, pets'], dtype=object)"
      ]
     },
     "execution_count": 107,
     "metadata": {},
     "output_type": "execute_result"
    }
   ],
   "source": [
    "# melihat value kolom 'main_category' untuk melihat variasi kategori produk\n",
    "df_products['main_category'].unique()"
   ]
  },
  {
   "cell_type": "markdown",
   "id": "5512959d",
   "metadata": {},
   "source": [
    "**Top 10 Categories by Number of Products (Bar Chart)**"
   ]
  },
  {
   "cell_type": "code",
   "execution_count": null,
   "id": "586a4330",
   "metadata": {},
   "outputs": [
    {
     "data": {
      "text/html": [
       "<div>\n",
       "<style scoped>\n",
       "    .dataframe tbody tr th:only-of-type {\n",
       "        vertical-align: middle;\n",
       "    }\n",
       "\n",
       "    .dataframe tbody tr th {\n",
       "        vertical-align: top;\n",
       "    }\n",
       "\n",
       "    .dataframe thead th {\n",
       "        text-align: right;\n",
       "    }\n",
       "</style>\n",
       "<table border=\"1\" class=\"dataframe\">\n",
       "  <thead>\n",
       "    <tr style=\"text-align: right;\">\n",
       "      <th></th>\n",
       "      <th>total_product</th>\n",
       "    </tr>\n",
       "    <tr>\n",
       "      <th>main_category</th>\n",
       "      <th></th>\n",
       "    </tr>\n",
       "  </thead>\n",
       "  <tbody>\n",
       "    <tr>\n",
       "      <th>accessories</th>\n",
       "      <td>232282</td>\n",
       "    </tr>\n",
       "    <tr>\n",
       "      <th>men's clothing</th>\n",
       "      <td>153312</td>\n",
       "    </tr>\n",
       "    <tr>\n",
       "      <th>women's clothing</th>\n",
       "      <td>153024</td>\n",
       "    </tr>\n",
       "    <tr>\n",
       "      <th>tv, audio &amp; cameras</th>\n",
       "      <td>137318</td>\n",
       "    </tr>\n",
       "    <tr>\n",
       "      <th>men's shoes</th>\n",
       "      <td>114912</td>\n",
       "    </tr>\n",
       "    <tr>\n",
       "      <th>appliances</th>\n",
       "      <td>66192</td>\n",
       "    </tr>\n",
       "    <tr>\n",
       "      <th>stores</th>\n",
       "      <td>65806</td>\n",
       "    </tr>\n",
       "    <tr>\n",
       "      <th>home &amp; kitchen</th>\n",
       "      <td>29136</td>\n",
       "    </tr>\n",
       "    <tr>\n",
       "      <th>kids' fashion</th>\n",
       "      <td>26976</td>\n",
       "    </tr>\n",
       "    <tr>\n",
       "      <th>sports &amp; fitness</th>\n",
       "      <td>25296</td>\n",
       "    </tr>\n",
       "  </tbody>\n",
       "</table>\n",
       "</div>"
      ],
      "text/plain": [
       "                     total_product\n",
       "main_category                     \n",
       "accessories                 232282\n",
       "men's clothing              153312\n",
       "women's clothing            153024\n",
       "tv, audio & cameras         137318\n",
       "men's shoes                 114912\n",
       "appliances                   66192\n",
       "stores                       65806\n",
       "home & kitchen               29136\n",
       "kids' fashion                26976\n",
       "sports & fitness             25296"
      ]
     },
     "execution_count": 108,
     "metadata": {},
     "output_type": "execute_result"
    }
   ],
   "source": [
    "# Top 10 kategori dengan jumlah produk terbanyak\n",
    "(\n",
    "df_products.groupby('main_category')\n",
    "    .agg(total_product=(\"name\",\"count\"))\n",
    "    .sort_values(\"total_product\",ascending=False)\n",
    "    .head(10)\n",
    ")"
   ]
  },
  {
   "cell_type": "code",
   "execution_count": null,
   "id": "803e9a82",
   "metadata": {},
   "outputs": [
    {
     "data": {
      "text/plain": [
       "<Axes: title={'center': 'Distribusi Main Category'}, xlabel='main_category'>"
      ]
     },
     "execution_count": 109,
     "metadata": {},
     "output_type": "execute_result"
    },
    {
     "data": {
      "image/png": "[encoded data removed]",
      "text/plain": [
       "<Figure size 600x400 with 1 Axes>"
      ]
     },
     "metadata": {},
     "output_type": "display_data"
    }
   ],
   "source": [
    "# Visualisasi distribusi main_category dalam bentuk bar chart\n",
    "df_products['main_category'].value_counts().plot(kind='bar', figsize=(6,4), title=\"Distribusi Main Category\")"
   ]
  },
  {
   "cell_type": "markdown",
   "id": "c9057541",
   "metadata": {},
   "source": [
    "dari hasil analisis terlihat Kategori terbesar adalah **Accessories (232k)**, **Men’s Clothing (153k)**,\n",
    "dan **Women’s Clothing (153k)**. Hal ini menunjukkan pasar fashion & aksesoris\n",
    "sangat kompetitif. Sebaliknya, kategori **Kids’ Fashion (26k)** dan\n",
    "**Sports & Fitness (25k)** masih relatif kecil, sehingga memiliki peluang\n",
    "pertumbuhan lebih tinggi."
   ]
  },
  {
   "cell_type": "markdown",
   "id": "4ba1807f",
   "metadata": {},
   "source": [
    "**Average Price per Category (Top 10 by Price)**"
   ]
  },
  {
   "cell_type": "code",
   "execution_count": null,
   "id": "b6fa2e6b",
   "metadata": {},
   "outputs": [
    {
     "data": {
      "text/html": [
       "<div>\n",
       "<style scoped>\n",
       "    .dataframe tbody tr th:only-of-type {\n",
       "        vertical-align: middle;\n",
       "    }\n",
       "\n",
       "    .dataframe tbody tr th {\n",
       "        vertical-align: top;\n",
       "    }\n",
       "\n",
       "    .dataframe thead th {\n",
       "        text-align: right;\n",
       "    }\n",
       "</style>\n",
       "<table border=\"1\" class=\"dataframe\">\n",
       "  <thead>\n",
       "    <tr style=\"text-align: right;\">\n",
       "      <th></th>\n",
       "      <th>avg_price</th>\n",
       "    </tr>\n",
       "    <tr>\n",
       "      <th>main_category</th>\n",
       "      <th></th>\n",
       "    </tr>\n",
       "  </thead>\n",
       "  <tbody>\n",
       "    <tr>\n",
       "      <th>home &amp; kitchen</th>\n",
       "      <td>685834.56</td>\n",
       "    </tr>\n",
       "    <tr>\n",
       "      <th>accessories</th>\n",
       "      <td>8136.31</td>\n",
       "    </tr>\n",
       "    <tr>\n",
       "      <th>appliances</th>\n",
       "      <td>8132.09</td>\n",
       "    </tr>\n",
       "    <tr>\n",
       "      <th>sports &amp; fitness</th>\n",
       "      <td>8084.12</td>\n",
       "    </tr>\n",
       "    <tr>\n",
       "      <th>tv, audio &amp; cameras</th>\n",
       "      <td>5725.72</td>\n",
       "    </tr>\n",
       "    <tr>\n",
       "      <th>music</th>\n",
       "      <td>5621.82</td>\n",
       "    </tr>\n",
       "    <tr>\n",
       "      <th>stores</th>\n",
       "      <td>4959.77</td>\n",
       "    </tr>\n",
       "    <tr>\n",
       "      <th>home, kitchen, pets</th>\n",
       "      <td>4468.12</td>\n",
       "    </tr>\n",
       "    <tr>\n",
       "      <th>bags &amp; luggage</th>\n",
       "      <td>4047.91</td>\n",
       "    </tr>\n",
       "    <tr>\n",
       "      <th>men's shoes</th>\n",
       "      <td>3853.49</td>\n",
       "    </tr>\n",
       "  </tbody>\n",
       "</table>\n",
       "</div>"
      ],
      "text/plain": [
       "                     avg_price\n",
       "main_category                 \n",
       "home & kitchen       685834.56\n",
       "accessories            8136.31\n",
       "appliances             8132.09\n",
       "sports & fitness       8084.12\n",
       "tv, audio & cameras    5725.72\n",
       "music                  5621.82\n",
       "stores                 4959.77\n",
       "home, kitchen, pets    4468.12\n",
       "bags & luggage         4047.91\n",
       "men's shoes            3853.49"
      ]
     },
     "execution_count": 110,
     "metadata": {},
     "output_type": "execute_result"
    }
   ],
   "source": [
    "# Top 10 kategori berdasarkan rata-rata harga produk\n",
    "(\n",
    "df_products.groupby('main_category')\n",
    "    .agg(avg_price=(\"actual_price\",\"mean\"))\n",
    "    .sort_values(\"avg_price\",ascending=False)\n",
    "    .head(10).round(2)\n",
    ")"
   ]
  },
  {
   "cell_type": "markdown",
   "id": "ae83d73c",
   "metadata": {},
   "source": [
    "Kategori dengan harga rata-rata tertinggi adalah **Home & Kitchen** (~685k),\n",
    "disusul oleh **Accessories** dan **Appliances** (8k–9k). \n",
    "Menariknya, kategori fashion seperti **Men’s Shoes** justru berada lebih rendah\n",
    "(~3.8k), menandakan produk fashion relatif lebih terjangkau dibanding kategori premium.\n"
   ]
  },
  {
   "cell_type": "markdown",
   "id": "66c8c20b",
   "metadata": {},
   "source": [
    "**Average Discount per Category (Top 10 by Discount %)**"
   ]
  },
  {
   "cell_type": "code",
   "execution_count": null,
   "id": "1286cb7a",
   "metadata": {},
   "outputs": [
    {
     "data": {
      "text/html": [
       "<div>\n",
       "<style scoped>\n",
       "    .dataframe tbody tr th:only-of-type {\n",
       "        vertical-align: middle;\n",
       "    }\n",
       "\n",
       "    .dataframe tbody tr th {\n",
       "        vertical-align: top;\n",
       "    }\n",
       "\n",
       "    .dataframe thead th {\n",
       "        text-align: right;\n",
       "    }\n",
       "</style>\n",
       "<table border=\"1\" class=\"dataframe\">\n",
       "  <thead>\n",
       "    <tr style=\"text-align: right;\">\n",
       "      <th></th>\n",
       "      <th>avg_discount_rate</th>\n",
       "    </tr>\n",
       "    <tr>\n",
       "      <th>main_category</th>\n",
       "      <th></th>\n",
       "    </tr>\n",
       "  </thead>\n",
       "  <tbody>\n",
       "    <tr>\n",
       "      <th>women's clothing</th>\n",
       "      <td>59.6</td>\n",
       "    </tr>\n",
       "    <tr>\n",
       "      <th>accessories</th>\n",
       "      <td>52.9</td>\n",
       "    </tr>\n",
       "    <tr>\n",
       "      <th>stores</th>\n",
       "      <td>51.9</td>\n",
       "    </tr>\n",
       "    <tr>\n",
       "      <th>bags &amp; luggage</th>\n",
       "      <td>50.3</td>\n",
       "    </tr>\n",
       "    <tr>\n",
       "      <th>tv, audio &amp; cameras</th>\n",
       "      <td>48.8</td>\n",
       "    </tr>\n",
       "    <tr>\n",
       "      <th>home &amp; kitchen</th>\n",
       "      <td>48.2</td>\n",
       "    </tr>\n",
       "    <tr>\n",
       "      <th>sports &amp; fitness</th>\n",
       "      <td>48.0</td>\n",
       "    </tr>\n",
       "    <tr>\n",
       "      <th>car &amp; motorbike</th>\n",
       "      <td>46.9</td>\n",
       "    </tr>\n",
       "    <tr>\n",
       "      <th>men's clothing</th>\n",
       "      <td>46.4</td>\n",
       "    </tr>\n",
       "    <tr>\n",
       "      <th>women's shoes</th>\n",
       "      <td>46.3</td>\n",
       "    </tr>\n",
       "  </tbody>\n",
       "</table>\n",
       "</div>"
      ],
      "text/plain": [
       "                     avg_discount_rate\n",
       "main_category                         \n",
       "women's clothing                  59.6\n",
       "accessories                       52.9\n",
       "stores                            51.9\n",
       "bags & luggage                    50.3\n",
       "tv, audio & cameras               48.8\n",
       "home & kitchen                    48.2\n",
       "sports & fitness                  48.0\n",
       "car & motorbike                   46.9\n",
       "men's clothing                    46.4\n",
       "women's shoes                     46.3"
      ]
     },
     "execution_count": 111,
     "metadata": {},
     "output_type": "execute_result"
    }
   ],
   "source": [
    "# Top 10 kategori berdasarkan rata-rata tingkat diskon\n",
    "(\n",
    "df_products.groupby(\"main_category\")\n",
    "    .agg(avg_discount_rate=(\"discount_percentage\",\"mean\"))\n",
    "    .sort_values(\"avg_discount_rate\", ascending=False)\n",
    "    .head(10).round(1)\n",
    ")"
   ]
  },
  {
   "cell_type": "markdown",
   "id": "8d5df974",
   "metadata": {},
   "source": [
    "**Discount Distribution**"
   ]
  },
  {
   "cell_type": "code",
   "execution_count": null,
   "id": "07850d8c",
   "metadata": {},
   "outputs": [
    {
     "data": {
      "text/html": [
       "<div>\n",
       "<style scoped>\n",
       "    .dataframe tbody tr th:only-of-type {\n",
       "        vertical-align: middle;\n",
       "    }\n",
       "\n",
       "    .dataframe tbody tr th {\n",
       "        vertical-align: top;\n",
       "    }\n",
       "\n",
       "    .dataframe thead th {\n",
       "        text-align: right;\n",
       "    }\n",
       "</style>\n",
       "<table border=\"1\" class=\"dataframe\">\n",
       "  <thead>\n",
       "    <tr style=\"text-align: right;\">\n",
       "      <th></th>\n",
       "      <th>actual_price</th>\n",
       "      <th>discount_price</th>\n",
       "    </tr>\n",
       "  </thead>\n",
       "  <tbody>\n",
       "    <tr>\n",
       "      <th>count</th>\n",
       "      <td>1.067538e+06</td>\n",
       "      <td>9.808440e+05</td>\n",
       "    </tr>\n",
       "    <tr>\n",
       "      <th>mean</th>\n",
       "      <td>2.311141e+04</td>\n",
       "      <td>2.623161e+03</td>\n",
       "    </tr>\n",
       "    <tr>\n",
       "      <th>std</th>\n",
       "      <td>1.355085e+07</td>\n",
       "      <td>9.458191e+03</td>\n",
       "    </tr>\n",
       "    <tr>\n",
       "      <th>min</th>\n",
       "      <td>4.000000e+00</td>\n",
       "      <td>8.000000e+00</td>\n",
       "    </tr>\n",
       "    <tr>\n",
       "      <th>25%</th>\n",
       "      <td>9.900000e+02</td>\n",
       "      <td>3.890000e+02</td>\n",
       "    </tr>\n",
       "    <tr>\n",
       "      <th>50%</th>\n",
       "      <td>1.599000e+03</td>\n",
       "      <td>6.790000e+02</td>\n",
       "    </tr>\n",
       "    <tr>\n",
       "      <th>75%</th>\n",
       "      <td>2.999000e+03</td>\n",
       "      <td>1.399000e+03</td>\n",
       "    </tr>\n",
       "    <tr>\n",
       "      <th>max</th>\n",
       "      <td>9.900000e+09</td>\n",
       "      <td>1.249990e+06</td>\n",
       "    </tr>\n",
       "  </tbody>\n",
       "</table>\n",
       "</div>"
      ],
      "text/plain": [
       "       actual_price  discount_price\n",
       "count  1.067538e+06    9.808440e+05\n",
       "mean   2.311141e+04    2.623161e+03\n",
       "std    1.355085e+07    9.458191e+03\n",
       "min    4.000000e+00    8.000000e+00\n",
       "25%    9.900000e+02    3.890000e+02\n",
       "50%    1.599000e+03    6.790000e+02\n",
       "75%    2.999000e+03    1.399000e+03\n",
       "max    9.900000e+09    1.249990e+06"
      ]
     },
     "execution_count": 112,
     "metadata": {},
     "output_type": "execute_result"
    }
   ],
   "source": [
    "# Statistik deskriptif untuk kolom harga (actual_price dan discount_price)\n",
    "df_products[['actual_price','discount_price']].describe()\n"
   ]
  },
  {
   "cell_type": "markdown",
   "id": "50e5f4b3",
   "metadata": {},
   "source": [
    "Secara umum, produk memiliki harga rata-rata **23,111** dengan diskon harga rata-rata\n",
    "sekitar **2,623**. Namun, terdapat nilai ekstrem (outlier) seperti harga produk hingga\n",
    "9,8 miliar, yang kemungkinan besar disebabkan oleh kesalahan input atau data anomali.\n"
   ]
  },
  {
   "cell_type": "markdown",
   "id": "7921b1ac",
   "metadata": {},
   "source": [
    "**Ratings Distribution**"
   ]
  },
  {
   "cell_type": "code",
   "execution_count": null,
   "id": "da91e730",
   "metadata": {},
   "outputs": [
    {
     "data": {
      "text/plain": [
       "count    739116.000000\n",
       "mean          3.832311\n",
       "std           0.756101\n",
       "min           1.000000\n",
       "25%           3.500000\n",
       "50%           3.900000\n",
       "75%           4.300000\n",
       "max           5.000000\n",
       "Name: ratings, dtype: float64"
      ]
     },
     "execution_count": 113,
     "metadata": {},
     "output_type": "execute_result"
    }
   ],
   "source": [
    "# Statistik deskriptif untuk kolom 'ratings'\n",
    "df_products['ratings'].describe()"
   ]
  },
  {
   "cell_type": "markdown",
   "id": "3d0d8809",
   "metadata": {},
   "source": [
    "\n",
    "Analisis demografi produk menunjukkan bahwa kategori **Accessories, Men’s Clothing, dan Women’s Clothing** mendominasi jumlah produk, sehingga pasar fashion dan aksesoris terlihat sangat kompetitif. Sebaliknya, kategori seperti **Kids’ Fashion** dan **Sports & Fitness** masih relatif kecil, yang membuka peluang penetrasi pasar dengan tingkat persaingan yang lebih rendah. Dari sisi harga, kategori premium seperti **Home & Kitchen** memiliki rata-rata harga yang jauh lebih tinggi dibandingkan produk fashion yang cenderung lebih terjangkau, menegaskan adanya perbedaan positioning antar kategori.\n",
    "\n",
    "Diskon produk rata-rata berada di angka **2.6k** dari harga asli sekitar 23k, namun terdapat outlier ekstrem dengan harga mencapai miliaran yang kemungkinan merupakan error data dan perlu ditangani dalam tahap data quality. Sementara itu, distribusi rating memperlihatkan mayoritas produk berada pada rentang **3.5–4.3** dengan rata-rata **3.8**, yang menunjukkan bahwa secara umum produk dalam dataset ini mendapatkan penilaian positif dari konsumen.\n"
   ]
  }
 ],
 "metadata": {
  "kernelspec": {
   "display_name": "venv",
   "language": "python",
   "name": "python3"
  },
  "language_info": {
   "codemirror_mode": {
    "name": "ipython",
    "version": 3
   },
   "file_extension": ".py",
   "mimetype": "text/x-python",
   "name": "python",
   "nbconvert_exporter": "python",
   "pygments_lexer": "ipython3",
   "version": "3.12.9"
  }
 },
 "nbformat": 4,
 "nbformat_minor": 5
}
